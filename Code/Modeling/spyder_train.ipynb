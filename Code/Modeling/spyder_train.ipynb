{
  "nbformat": 4,
  "nbformat_minor": 0,
  "metadata": {
    "kernelspec": {
      "display_name": "Python 3",
      "language": "python",
      "name": "python3"
    },
    "language_info": {
      "codemirror_mode": {
        "name": "ipython",
        "version": 3
      },
      "file_extension": ".py",
      "mimetype": "text/x-python",
      "name": "python",
      "nbconvert_exporter": "python",
      "pygments_lexer": "ipython3",
      "version": "3.7.4"
    },
    "colab": {
      "name": "spyder train.ipynb",
      "provenance": []
    },
    "accelerator": "GPU"
  },
  "cells": [
    {
      "cell_type": "code",
      "metadata": {
        "id": "PxItSqTfx-YQ",
        "colab_type": "code",
        "colab": {}
      },
      "source": [
        "%matplotlib inline\n",
        "import matplotlib.pyplot as plt\n",
        "import numpy as np\n",
        "import pandas as pd\n",
        "\n",
        "import torch\n",
        "import torch.nn as nn\n",
        "from torchsummaryX import summary\n",
        "\n",
        "from UDA_pytorch_utils import UDA_LSTMforSequential, UDA_pytorch_classifier_fit, \\\n",
        "    UDA_plot_train_val_accuracy_vs_epoch, UDA_pytorch_classifier_predict, \\\n",
        "    UDA_compute_accuracy"
      ],
      "execution_count": 0,
      "outputs": []
    },
    {
      "cell_type": "code",
      "metadata": {
        "id": "XxmbaEGiyWxJ",
        "colab_type": "code",
        "colab": {
          "base_uri": "https://localhost:8080/",
          "height": 817
        },
        "outputId": "2dbdd04e-d4a0-4d53-b3e8-01bd66c57ae8"
      },
      "source": [
        "!pip install -q torchsummaryX\n",
        "!pip3 install torchvision\n",
        "!python -m spacy download en\n",
        "!pip install torch===1.4.0 torchvision===0.5.0 -f https://download.pytorch.org/whl/torch_stable.html\n",
        "!pip install pytorch-nlp"
      ],
      "execution_count": 1,
      "outputs": [
        {
          "output_type": "stream",
          "text": [
            "Requirement already satisfied: torchvision in /usr/local/lib/python3.6/dist-packages (0.5.0)\n",
            "Requirement already satisfied: numpy in /usr/local/lib/python3.6/dist-packages (from torchvision) (1.18.2)\n",
            "Requirement already satisfied: torch==1.4.0 in /usr/local/lib/python3.6/dist-packages (from torchvision) (1.4.0)\n",
            "Requirement already satisfied: pillow>=4.1.1 in /usr/local/lib/python3.6/dist-packages (from torchvision) (7.0.0)\n",
            "Requirement already satisfied: six in /usr/local/lib/python3.6/dist-packages (from torchvision) (1.12.0)\n",
            "Requirement already satisfied: en_core_web_sm==2.2.5 from https://github.com/explosion/spacy-models/releases/download/en_core_web_sm-2.2.5/en_core_web_sm-2.2.5.tar.gz#egg=en_core_web_sm==2.2.5 in /usr/local/lib/python3.6/dist-packages (2.2.5)\n",
            "Requirement already satisfied: spacy>=2.2.2 in /usr/local/lib/python3.6/dist-packages (from en_core_web_sm==2.2.5) (2.2.4)\n",
            "Requirement already satisfied: murmurhash<1.1.0,>=0.28.0 in /usr/local/lib/python3.6/dist-packages (from spacy>=2.2.2->en_core_web_sm==2.2.5) (1.0.2)\n",
            "Requirement already satisfied: cymem<2.1.0,>=2.0.2 in /usr/local/lib/python3.6/dist-packages (from spacy>=2.2.2->en_core_web_sm==2.2.5) (2.0.3)\n",
            "Requirement already satisfied: setuptools in /usr/local/lib/python3.6/dist-packages (from spacy>=2.2.2->en_core_web_sm==2.2.5) (46.1.3)\n",
            "Requirement already satisfied: wasabi<1.1.0,>=0.4.0 in /usr/local/lib/python3.6/dist-packages (from spacy>=2.2.2->en_core_web_sm==2.2.5) (0.6.0)\n",
            "Requirement already satisfied: requests<3.0.0,>=2.13.0 in /usr/local/lib/python3.6/dist-packages (from spacy>=2.2.2->en_core_web_sm==2.2.5) (2.21.0)\n",
            "Requirement already satisfied: srsly<1.1.0,>=1.0.2 in /usr/local/lib/python3.6/dist-packages (from spacy>=2.2.2->en_core_web_sm==2.2.5) (1.0.2)\n",
            "Requirement already satisfied: numpy>=1.15.0 in /usr/local/lib/python3.6/dist-packages (from spacy>=2.2.2->en_core_web_sm==2.2.5) (1.18.2)\n",
            "Requirement already satisfied: blis<0.5.0,>=0.4.0 in /usr/local/lib/python3.6/dist-packages (from spacy>=2.2.2->en_core_web_sm==2.2.5) (0.4.1)\n",
            "Requirement already satisfied: preshed<3.1.0,>=3.0.2 in /usr/local/lib/python3.6/dist-packages (from spacy>=2.2.2->en_core_web_sm==2.2.5) (3.0.2)\n",
            "Requirement already satisfied: thinc==7.4.0 in /usr/local/lib/python3.6/dist-packages (from spacy>=2.2.2->en_core_web_sm==2.2.5) (7.4.0)\n",
            "Requirement already satisfied: catalogue<1.1.0,>=0.0.7 in /usr/local/lib/python3.6/dist-packages (from spacy>=2.2.2->en_core_web_sm==2.2.5) (1.0.0)\n",
            "Requirement already satisfied: tqdm<5.0.0,>=4.38.0 in /usr/local/lib/python3.6/dist-packages (from spacy>=2.2.2->en_core_web_sm==2.2.5) (4.38.0)\n",
            "Requirement already satisfied: plac<1.2.0,>=0.9.6 in /usr/local/lib/python3.6/dist-packages (from spacy>=2.2.2->en_core_web_sm==2.2.5) (1.1.3)\n",
            "Requirement already satisfied: certifi>=2017.4.17 in /usr/local/lib/python3.6/dist-packages (from requests<3.0.0,>=2.13.0->spacy>=2.2.2->en_core_web_sm==2.2.5) (2020.4.5.1)\n",
            "Requirement already satisfied: chardet<3.1.0,>=3.0.2 in /usr/local/lib/python3.6/dist-packages (from requests<3.0.0,>=2.13.0->spacy>=2.2.2->en_core_web_sm==2.2.5) (3.0.4)\n",
            "Requirement already satisfied: idna<2.9,>=2.5 in /usr/local/lib/python3.6/dist-packages (from requests<3.0.0,>=2.13.0->spacy>=2.2.2->en_core_web_sm==2.2.5) (2.8)\n",
            "Requirement already satisfied: urllib3<1.25,>=1.21.1 in /usr/local/lib/python3.6/dist-packages (from requests<3.0.0,>=2.13.0->spacy>=2.2.2->en_core_web_sm==2.2.5) (1.24.3)\n",
            "Requirement already satisfied: importlib-metadata>=0.20; python_version < \"3.8\" in /usr/local/lib/python3.6/dist-packages (from catalogue<1.1.0,>=0.0.7->spacy>=2.2.2->en_core_web_sm==2.2.5) (1.6.0)\n",
            "Requirement already satisfied: zipp>=0.5 in /usr/local/lib/python3.6/dist-packages (from importlib-metadata>=0.20; python_version < \"3.8\"->catalogue<1.1.0,>=0.0.7->spacy>=2.2.2->en_core_web_sm==2.2.5) (3.1.0)\n",
            "\u001b[38;5;2m✔ Download and installation successful\u001b[0m\n",
            "You can now load the model via spacy.load('en_core_web_sm')\n",
            "\u001b[38;5;2m✔ Linking successful\u001b[0m\n",
            "/usr/local/lib/python3.6/dist-packages/en_core_web_sm -->\n",
            "/usr/local/lib/python3.6/dist-packages/spacy/data/en\n",
            "You can now load the model via spacy.load('en')\n",
            "Looking in links: https://download.pytorch.org/whl/torch_stable.html\n",
            "Requirement already satisfied: torch===1.4.0 in /usr/local/lib/python3.6/dist-packages (1.4.0)\n",
            "Requirement already satisfied: torchvision===0.5.0 in /usr/local/lib/python3.6/dist-packages (0.5.0)\n",
            "Requirement already satisfied: six in /usr/local/lib/python3.6/dist-packages (from torchvision===0.5.0) (1.12.0)\n",
            "Requirement already satisfied: pillow>=4.1.1 in /usr/local/lib/python3.6/dist-packages (from torchvision===0.5.0) (7.0.0)\n",
            "Requirement already satisfied: numpy in /usr/local/lib/python3.6/dist-packages (from torchvision===0.5.0) (1.18.2)\n",
            "Collecting pytorch-nlp\n",
            "\u001b[?25l  Downloading https://files.pythonhosted.org/packages/4f/51/f0ee1efb75f7cc2e3065c5da1363d6be2eec79691b2821594f3f2329528c/pytorch_nlp-0.5.0-py3-none-any.whl (90kB)\n",
            "\u001b[K     |████████████████████████████████| 92kB 6.2MB/s \n",
            "\u001b[?25hRequirement already satisfied: numpy in /usr/local/lib/python3.6/dist-packages (from pytorch-nlp) (1.18.2)\n",
            "Requirement already satisfied: tqdm in /usr/local/lib/python3.6/dist-packages (from pytorch-nlp) (4.38.0)\n",
            "Installing collected packages: pytorch-nlp\n",
            "Successfully installed pytorch-nlp-0.5.0\n"
          ],
          "name": "stdout"
        }
      ]
    },
    {
      "cell_type": "code",
      "metadata": {
        "id": "M_kBmL80x-YU",
        "colab_type": "code",
        "colab": {
          "base_uri": "https://localhost:8080/",
          "height": 725
        },
        "outputId": "fbd0ab12-80d3-453b-d5aa-f8e12b41a3d2"
      },
      "source": [
        "filename = 'roi.plot.genresplitted.tsv'\n",
        "df = pd.read_csv(filename, sep='\\t')\n",
        "df.head()"
      ],
      "execution_count": 3,
      "outputs": [
        {
          "output_type": "execute_result",
          "data": {
            "text/html": [
              "<div>\n",
              "<style scoped>\n",
              "    .dataframe tbody tr th:only-of-type {\n",
              "        vertical-align: middle;\n",
              "    }\n",
              "\n",
              "    .dataframe tbody tr th {\n",
              "        vertical-align: top;\n",
              "    }\n",
              "\n",
              "    .dataframe thead th {\n",
              "        text-align: right;\n",
              "    }\n",
              "</style>\n",
              "<table border=\"1\" class=\"dataframe\">\n",
              "  <thead>\n",
              "    <tr style=\"text-align: right;\">\n",
              "      <th></th>\n",
              "      <th>tconst</th>\n",
              "      <th>name</th>\n",
              "      <th>date</th>\n",
              "      <th>prod_budget</th>\n",
              "      <th>domestic_gross</th>\n",
              "      <th>worldwide_gross</th>\n",
              "      <th>isAdult</th>\n",
              "      <th>startYear</th>\n",
              "      <th>runtimeMinutes</th>\n",
              "      <th>Action</th>\n",
              "      <th>Adventure</th>\n",
              "      <th>Drama</th>\n",
              "      <th>Fantasy</th>\n",
              "      <th>Sci-Fi</th>\n",
              "      <th>Thriller</th>\n",
              "      <th>Animation</th>\n",
              "      <th>Comedy</th>\n",
              "      <th>Family</th>\n",
              "      <th>Crime</th>\n",
              "      <th>Horror</th>\n",
              "      <th>History</th>\n",
              "      <th>Romance</th>\n",
              "      <th>Mystery</th>\n",
              "      <th>Musical</th>\n",
              "      <th>Documentary</th>\n",
              "      <th>Adult</th>\n",
              "      <th>War</th>\n",
              "      <th>Biography</th>\n",
              "      <th>Western</th>\n",
              "      <th>Sport</th>\n",
              "      <th>Music</th>\n",
              "      <th>News</th>\n",
              "      <th>Film-Noir</th>\n",
              "      <th>ROI_domestic</th>\n",
              "      <th>ROI_worldwide</th>\n",
              "      <th>plot</th>\n",
              "    </tr>\n",
              "  </thead>\n",
              "  <tbody>\n",
              "    <tr>\n",
              "      <th>0</th>\n",
              "      <td>tt4154796</td>\n",
              "      <td>Avengers: Endgame</td>\n",
              "      <td>2019</td>\n",
              "      <td>400000000</td>\n",
              "      <td>858373000</td>\n",
              "      <td>2797800564</td>\n",
              "      <td>0</td>\n",
              "      <td>2019</td>\n",
              "      <td>181</td>\n",
              "      <td>1</td>\n",
              "      <td>1</td>\n",
              "      <td>1</td>\n",
              "      <td>0</td>\n",
              "      <td>0</td>\n",
              "      <td>0</td>\n",
              "      <td>0</td>\n",
              "      <td>0</td>\n",
              "      <td>0</td>\n",
              "      <td>0</td>\n",
              "      <td>0</td>\n",
              "      <td>0</td>\n",
              "      <td>0</td>\n",
              "      <td>0</td>\n",
              "      <td>0</td>\n",
              "      <td>0</td>\n",
              "      <td>0</td>\n",
              "      <td>0</td>\n",
              "      <td>0</td>\n",
              "      <td>0</td>\n",
              "      <td>0</td>\n",
              "      <td>0</td>\n",
              "      <td>0</td>\n",
              "      <td>0</td>\n",
              "      <td>2.145932</td>\n",
              "      <td>6.994501</td>\n",
              "      <td>In the opening, Clint Barton is teaching his d...</td>\n",
              "    </tr>\n",
              "    <tr>\n",
              "      <th>1</th>\n",
              "      <td>tt1298650</td>\n",
              "      <td>Pirates of the Caribbean: On Stranger Tides</td>\n",
              "      <td>2011</td>\n",
              "      <td>379000000</td>\n",
              "      <td>241063875</td>\n",
              "      <td>1045663875</td>\n",
              "      <td>0</td>\n",
              "      <td>2011</td>\n",
              "      <td>136</td>\n",
              "      <td>1</td>\n",
              "      <td>1</td>\n",
              "      <td>0</td>\n",
              "      <td>1</td>\n",
              "      <td>0</td>\n",
              "      <td>0</td>\n",
              "      <td>0</td>\n",
              "      <td>0</td>\n",
              "      <td>0</td>\n",
              "      <td>0</td>\n",
              "      <td>0</td>\n",
              "      <td>0</td>\n",
              "      <td>0</td>\n",
              "      <td>0</td>\n",
              "      <td>0</td>\n",
              "      <td>0</td>\n",
              "      <td>0</td>\n",
              "      <td>0</td>\n",
              "      <td>0</td>\n",
              "      <td>0</td>\n",
              "      <td>0</td>\n",
              "      <td>0</td>\n",
              "      <td>0</td>\n",
              "      <td>0</td>\n",
              "      <td>0.636052</td>\n",
              "      <td>2.759008</td>\n",
              "      <td>Captain Jack Sparrow (Johnny Depp) travels to ...</td>\n",
              "    </tr>\n",
              "    <tr>\n",
              "      <th>2</th>\n",
              "      <td>tt2395427</td>\n",
              "      <td>Avengers: Age of Ultron</td>\n",
              "      <td>2015</td>\n",
              "      <td>365000000</td>\n",
              "      <td>459005868</td>\n",
              "      <td>1403013963</td>\n",
              "      <td>0</td>\n",
              "      <td>2015</td>\n",
              "      <td>141</td>\n",
              "      <td>1</td>\n",
              "      <td>1</td>\n",
              "      <td>0</td>\n",
              "      <td>0</td>\n",
              "      <td>1</td>\n",
              "      <td>0</td>\n",
              "      <td>0</td>\n",
              "      <td>0</td>\n",
              "      <td>0</td>\n",
              "      <td>0</td>\n",
              "      <td>0</td>\n",
              "      <td>0</td>\n",
              "      <td>0</td>\n",
              "      <td>0</td>\n",
              "      <td>0</td>\n",
              "      <td>0</td>\n",
              "      <td>0</td>\n",
              "      <td>0</td>\n",
              "      <td>0</td>\n",
              "      <td>0</td>\n",
              "      <td>0</td>\n",
              "      <td>0</td>\n",
              "      <td>0</td>\n",
              "      <td>0</td>\n",
              "      <td>1.257550</td>\n",
              "      <td>3.843874</td>\n",
              "      <td>In the Eastern European country of Sokovia, th...</td>\n",
              "    </tr>\n",
              "    <tr>\n",
              "      <th>3</th>\n",
              "      <td>tt4154756</td>\n",
              "      <td>Avengers: Infinity War</td>\n",
              "      <td>2018</td>\n",
              "      <td>300000000</td>\n",
              "      <td>678815482</td>\n",
              "      <td>2048359754</td>\n",
              "      <td>0</td>\n",
              "      <td>2018</td>\n",
              "      <td>149</td>\n",
              "      <td>1</td>\n",
              "      <td>1</td>\n",
              "      <td>0</td>\n",
              "      <td>0</td>\n",
              "      <td>1</td>\n",
              "      <td>0</td>\n",
              "      <td>0</td>\n",
              "      <td>0</td>\n",
              "      <td>0</td>\n",
              "      <td>0</td>\n",
              "      <td>0</td>\n",
              "      <td>0</td>\n",
              "      <td>0</td>\n",
              "      <td>0</td>\n",
              "      <td>0</td>\n",
              "      <td>0</td>\n",
              "      <td>0</td>\n",
              "      <td>0</td>\n",
              "      <td>0</td>\n",
              "      <td>0</td>\n",
              "      <td>0</td>\n",
              "      <td>0</td>\n",
              "      <td>0</td>\n",
              "      <td>0</td>\n",
              "      <td>2.262718</td>\n",
              "      <td>6.827866</td>\n",
              "      <td>SPOILER: Thanos and his Children - Proxima Mid...</td>\n",
              "    </tr>\n",
              "    <tr>\n",
              "      <th>4</th>\n",
              "      <td>tt0974015</td>\n",
              "      <td>Justice League</td>\n",
              "      <td>2017</td>\n",
              "      <td>300000000</td>\n",
              "      <td>229024295</td>\n",
              "      <td>655945209</td>\n",
              "      <td>0</td>\n",
              "      <td>2017</td>\n",
              "      <td>120</td>\n",
              "      <td>1</td>\n",
              "      <td>1</td>\n",
              "      <td>0</td>\n",
              "      <td>1</td>\n",
              "      <td>0</td>\n",
              "      <td>0</td>\n",
              "      <td>0</td>\n",
              "      <td>0</td>\n",
              "      <td>0</td>\n",
              "      <td>0</td>\n",
              "      <td>0</td>\n",
              "      <td>0</td>\n",
              "      <td>0</td>\n",
              "      <td>0</td>\n",
              "      <td>0</td>\n",
              "      <td>0</td>\n",
              "      <td>0</td>\n",
              "      <td>0</td>\n",
              "      <td>0</td>\n",
              "      <td>0</td>\n",
              "      <td>0</td>\n",
              "      <td>0</td>\n",
              "      <td>0</td>\n",
              "      <td>0</td>\n",
              "      <td>0.763414</td>\n",
              "      <td>2.186484</td>\n",
              "      <td>The film opens with camera phone footage of Cl...</td>\n",
              "    </tr>\n",
              "  </tbody>\n",
              "</table>\n",
              "</div>"
            ],
            "text/plain": [
              "      tconst  ...                                               plot\n",
              "0  tt4154796  ...  In the opening, Clint Barton is teaching his d...\n",
              "1  tt1298650  ...  Captain Jack Sparrow (Johnny Depp) travels to ...\n",
              "2  tt2395427  ...  In the Eastern European country of Sokovia, th...\n",
              "3  tt4154756  ...  SPOILER: Thanos and his Children - Proxima Mid...\n",
              "4  tt0974015  ...  The film opens with camera phone footage of Cl...\n",
              "\n",
              "[5 rows x 36 columns]"
            ]
          },
          "metadata": {
            "tags": []
          },
          "execution_count": 3
        }
      ]
    },
    {
      "cell_type": "code",
      "metadata": {
        "id": "R5WzvtWOx-YX",
        "colab_type": "code",
        "colab": {
          "base_uri": "https://localhost:8080/",
          "height": 55
        },
        "outputId": "ab999d72-b6e6-4b93-b211-5467fcd411a6"
      },
      "source": [
        "train_dataset = df[['ROI_domestic', 'plot']].values.tolist()\n",
        "new_traindataset = []\n",
        "for data in train_dataset:\n",
        "    dict_object = {}\n",
        "    dict_object['text'] = data[1]\n",
        "    dict_object['roi'] = data[0]\n",
        "    new_traindataset.append(dict_object)\n",
        "train_dataset = new_traindataset\n",
        "print(train_dataset[0])"
      ],
      "execution_count": 4,
      "outputs": [
        {
          "output_type": "stream",
          "text": [
            "{'text': 'In the opening, Clint Barton is teaching his daughter archery on his secluded farm while his wife prepares a picnic lunch for them. Suddenly, Clint\\'s daughter vanishes and the rest of Clint\\'s family disintegrates, along with half of all life across the universe, the result of Thanos\\' snapping his fingers after acquiring all six Infinity Stones. Nebula and Tony Stark are stranded in space following their defeat by Thanos on Titan, but are returned to Earth by Carol Danvers and reunited with Natasha Romanoff, Bruce Banner, Steve Rogers, Rocket, Thor, and James Rhodes. The team formulates a plan to steal the Infinity Stones back from Thanos and use them to reverse his actions, but learn upon finding him that he had used the stones a second time to destroy them, preventing their further use. He tells the remaining Avengers that he did so to avoid using the Stones for further nefarious purposes. Enraged, Thor cuts off Thanos\\' head, saying it\\'s what he should have done in Wakanda.Five years later, Scott Lang escapes from the quantum realm to discover that his daughter Cassie is now a teenager and that Hope van Dyne, along with half of the population, has disappeared in the snap. Rogers has been leading grief counseling sessions for survivors still struggling with the effects of the snap, while Romanoff is tirelessly keeping watch over both Earth and the rest of the universe with the help of Rhodes, Danvers, Okoye, Rocket, and Nebula. Lang goes to Romanoff and Rogers, and explains that while five years had passed for them, only five hours had passed for him in the quantum realm and the difference in time factors there. The three go to Stark, who is now raising a child with Pepper Potts, and explain their theory that the quantum realm can be used to go back in time and steal the Infinity Stones before Thanos is able to collect them. Stark initially rejects their proposal with concern about risking his family and the peace he has found, but after reflecting upon the loss of Peter Parker decides to test theoretical models that would work with Lang\\'s quantum tunnel, eventually finding one that works.With Stark now on board with the plan, the remaining Avengers set out to reassemble their team. Bruce Banner has now embraced the Hulk as a part of him, and has melded his own consciousness and the Hulk\\'s together into one. Romanoff, after hearing reports from Rhodes of an assassin that operates with similar methods to Barton, goes the Japan to track him down. Barton, consumed with grief after the loss of his family, has been operating under the mantle \"Ronin\" while brutally massacring cartels and gangs in order to try and improve the world that\\'s still left. Natasha finds him in Japan and after some convincing, he agrees to rejoin the team in order to try and bring his family back. Banner and Rocket go to the small town of New Asgard, where Valkyrie and the last survivors of Asgard have settled. They there find Thor, who has become overwhelmed by guilt over failing to kill Thanos in Wakanda. Thor has become overweight, his hair and beard are overgrown, and he spends his free time eating junk food, getting drunk, and playing Fortnite with his friends Korg and Miek. Thor begrudgingly agrees to return to the Avengers after some convincing from Rocket and Banner.After testing the quantum time machine on Barton, who confirms that it works, The Avengers are reunited with a plan - Banner, Rogers, Lang, and Stark embark to retrieve the Time, Mind, and Space stones during the battle of New York in 2012. Banner goes to the Sanctum Sanctorum, where he is informed by the Ancient One that taking the Time Stone from her time line would prevent Stephen Strange\\'s future efforts to stop Kaecilius from destroying the laws of nature. She eventually concedes the Time Stone to Banner after he informs her that Strange had given Thanos the stone in his time line, implying Strange had intended for a specific sequence of events to occur for Thanos to be defeated. Banner also promises the stones\\' return to their proper time lines in order to prevent any ill effects. Lang and Stark attempt to steal the Space Stone after the Avengers confiscate it from Loki. Lang gives Stark\\'s past self a cardiac arrest by pulling a circuit in his artificial heart, while Stark steals the briefcase housing the Tesseract when nobody is looking. Their plan is thwarted when Stark drops the briefcase after he is accidentally hit by the Hulk. Loki then steals the Space Stone and uses it to escape custody. Rogers succeeds in stealing the Mind Stone from undercover Hydra agents, but stumbles across his past self, who mistakes him for a disguised Loki. After defeating past-Steve, Rogers meets back up with Stark and Lang, who now must figure out another way to get the Space Stone without running out of the limited supply of Pym Particles that allow them to travel through the quantum realm. Lang returns to the present with the Mind Stone while Rogers and Stark devise a plan to steal the Space Stone from a U.S. Army installation in the 1970s, while stealing further vials of Pym Particles in order to make the journey back home. While there, Rogers sights Peggy Carter and Stark has an meaningful conversation with his father Howard.Rocket and Thor travel to Asgard to retrieve the Reality Stone before Malekith uses it against the Nine Realms. While in Asgard, Thor is reminded that his mother, Frigga, would die soon and has a chance encounter with her while Rocket steals the Aether, the vaporized version of the Reality Stone, from Jane Foster. The two return to Earth after Frigga counsels Thor and he retrieves his hammer Mjolnor, elated to discover that he is still worthy of it. Nebula and Rhodes travel to Morag to steal the Power Stone before Peter Quill does. As Rhodes returns to the present with the Power Stone, Nebula malfunctions and remains on Morag. With two consciousnesses operating on Nebula\\'s systems, Thanos and Ebony Maw discover the presence of future Nebula and go to kidnap her. Nebula realizes what has happened and tries to warn the others, but is too late. Thanos scans her memories and discovers the Avengers\\' plan, and sends the more loyal past Nebula back to the present as a spy. Barton and Romanoff travel to Vormir to retrieve the Soul Stone, though are conflicted when Red Skull, keeper of the Soul Stone, informs them that the stone can only be retrieved by sacrificing someone they love. The two fight over which will make the sacrifice, with Romanoff ultimately taking the fall, while a distraught Barton returns to Earth with the Soul Stone.After everyone has returned to the present on Earth, Stark, Rocket, and Banner set out to craft a gauntlet to wield the stones, one constructed from the same nanotech of Stark\\'s latest Iron Man suit. Banner volunteers himself to wield the gauntlet and bring back everyone that disappeared in Thanos\\'s snap, reasoning that he can withstand both the gamma radiation and the immense pain brought on by using the stones. He succeeds, though they are almost immediately attacked by Thanos, who has been brought to Earth by the impostor Nebula, destroying the quantum portal in the process. Thanos reduces the Avengers headquarters to rubble, splitting the team up and causing the gauntlet to fall into Barton\\'s protection. The past Nebula is killed by her future self as she attempts to take the Infinity Stones from Barton, while Rogers, Thor, and Stark confront Thanos, who decides he will instead use the Infinity Stones to destroy the universe and create one in his vision. The three fight Thanos one on one, with Rogers confirming Thor\\'s theory that he is worthy of wielding Mjolnor, but are each bested by Thanos. Soon after Thanos\\' army lands on Earth, T\\'Challa appears before Rogers, along with all of the Avengers and other allies revived by Banner, before launching an assault on Thanos and his army. After a lengthy battle during which Stark is reunited with Parker and Quill is reunited with past Gamora, Thanos wrestles with numerous Avengers for the Infinity Stones. When he\\'s bound by Wanda Maximoff\\'s energy, Thanos orders Glaive to have his ship fire multiple energy blasts, nearly devastating the Avengers\\' efforts. Captain Marvel reappears, taking out Thanos\\' ship while fighting for control of the gauntlet. Using the nanotech from the new gauntlet, Stark maneuvers the Infinity Stones from Thanos\\' hand to his own and uses them to turn Thanos and his entire army into dust, triumphantly stating \"I am Iron Man.\" Parker and Potts console Stark as he dies from exposure to the Stones\\' radiation.Following the battle, The Avengers hold a funeral for Stark, whose Mark I arc reactor is floated out on the lake next to his house. Barton and Wanda Maximoff take solace in the fact that Romanoff and Vision, who did not return in the snap, would be proud of their victory over Thanos. Thor makes Valkyrie the Queen of Asgard and joins the Guardians of the Galaxy in order to find his true purpose, free of the burden of royalty and leadership for the first time in his life. Barton returns home to his family and Parker returns to school, where he is reunited with his best friend Ned. Meanwhile, Rogers is tasked to go into the past to return the stones and Thor\\'s hammer to their original time lines, but decides not to return to the present and to instead live the rest of his life in the past with Carter. He reappears before Sam Wilson and Bucky Barnes as an old man, and passes his shield and the mantle of Captain America on to Wilson. A brief flashback shows Rogers and Carter finally sharing the dance they never got to have in their living room, truly happy at last.', 'roi': 2.1459325}\n"
          ],
          "name": "stdout"
        }
      ]
    },
    {
      "cell_type": "code",
      "metadata": {
        "id": "bQUJYKrVx-YZ",
        "colab_type": "code",
        "colab": {}
      },
      "source": [
        "import re\n",
        "def remove_special_characters(text, remove_digits=False):\n",
        "    pattern = r'[^a-zA-z0-9\\s]' if not remove_digits else r'[^a-zA-z\\s]'\n",
        "    text = re.sub(pattern, '', text)\n",
        "    return text\n",
        "\n",
        "for data in train_dataset:\n",
        "    data['text'] = remove_special_characters(data['text'], remove_digits=True)"
      ],
      "execution_count": 0,
      "outputs": []
    },
    {
      "cell_type": "code",
      "metadata": {
        "id": "fzrcGkuAx-Yb",
        "colab_type": "code",
        "colab": {}
      },
      "source": [
        "proper_train_size = int(len(df) * 0.8)\n",
        "val_size = len(df) - proper_train_size"
      ],
      "execution_count": 0,
      "outputs": []
    },
    {
      "cell_type": "code",
      "metadata": {
        "id": "HZdmJ61zx-Yd",
        "colab_type": "code",
        "colab": {}
      },
      "source": [
        "proper_train_dataset, val_dataset = torch.utils.data.random_split(train_dataset,\n",
        "                                                                  [proper_train_size,\n",
        "                                                                   val_size])"
      ],
      "execution_count": 0,
      "outputs": []
    },
    {
      "cell_type": "code",
      "metadata": {
        "id": "wKLxh-y7x-Yf",
        "colab_type": "code",
        "colab": {}
      },
      "source": [
        "from torchnlp.encoders.text import SpacyEncoder"
      ],
      "execution_count": 0,
      "outputs": []
    },
    {
      "cell_type": "code",
      "metadata": {
        "id": "IESHFcbyx-Yi",
        "colab_type": "code",
        "colab": {}
      },
      "source": [
        "encoder = SpacyEncoder([data['text'] for data in proper_train_dataset])"
      ],
      "execution_count": 0,
      "outputs": []
    },
    {
      "cell_type": "code",
      "metadata": {
        "id": "TDBZYuSCx-Yk",
        "colab_type": "code",
        "colab": {}
      },
      "source": [
        "proper_train_encoded = [encoder.encode(data['text']) for data in proper_train_dataset]"
      ],
      "execution_count": 0,
      "outputs": []
    },
    {
      "cell_type": "code",
      "metadata": {
        "id": "8WeHOvNIx-Ym",
        "colab_type": "code",
        "colab": {}
      },
      "source": [
        "proper_train_labels = torch.tensor([int(data['roi'] < 2) for data in proper_train_dataset])"
      ],
      "execution_count": 0,
      "outputs": []
    },
    {
      "cell_type": "code",
      "metadata": {
        "id": "xMW0_wK2x-Yq",
        "colab_type": "code",
        "colab": {}
      },
      "source": [
        "val_encoded = [encoder.encode(data['text']) for data in val_dataset]"
      ],
      "execution_count": 0,
      "outputs": []
    },
    {
      "cell_type": "code",
      "metadata": {
        "id": "WwoTt5J6x-Ys",
        "colab_type": "code",
        "colab": {}
      },
      "source": [
        "val_labels = torch.tensor([int(data['roi'] < 2) for data in val_dataset])"
      ],
      "execution_count": 0,
      "outputs": []
    },
    {
      "cell_type": "code",
      "metadata": {
        "id": "CNU0eRK2x-Yv",
        "colab_type": "code",
        "colab": {}
      },
      "source": [
        "proper_train_dataset_encoded = list(zip(proper_train_encoded, proper_train_labels))\n",
        "val_dataset_encoded = list(zip(val_encoded, val_labels))"
      ],
      "execution_count": 0,
      "outputs": []
    },
    {
      "cell_type": "code",
      "metadata": {
        "id": "JZxdt4W1x-Yx",
        "colab_type": "code",
        "colab": {
          "base_uri": "https://localhost:8080/",
          "height": 52
        },
        "outputId": "1d30ebc1-56b3-4a83-f74c-2bfd7d88b1cc"
      },
      "source": [
        "from torchnlp.word_to_vector import GloVe\n",
        "pretrained_embedding = GloVe(name='6B', dim=100)"
      ],
      "execution_count": 15,
      "outputs": [
        {
          "output_type": "stream",
          "text": [
            "glove.6B.zip: 862MB [06:30, 2.21MB/s]                           \n",
            "100%|██████████| 400000/400000 [00:24<00:00, 16508.75it/s]\n"
          ],
          "name": "stderr"
        }
      ]
    },
    {
      "cell_type": "code",
      "metadata": {
        "id": "Ez2t_oKox-Yz",
        "colab_type": "code",
        "colab": {}
      },
      "source": [
        "embedding_weights = torch.Tensor(encoder.vocab_size, pretrained_embedding.dim)\n",
        "for i, token in enumerate(encoder.vocab):\n",
        "    embedding_weights[i] = pretrained_embedding[token]"
      ],
      "execution_count": 0,
      "outputs": []
    },
    {
      "cell_type": "code",
      "metadata": {
        "id": "IP8EU5Hyx-Y0",
        "colab_type": "code",
        "colab": {}
      },
      "source": [
        "simple_lstm_model = nn.Sequential(nn.Embedding.from_pretrained(embedding_weights),\n",
        "                                  UDA_LSTMforSequential(100, 64),\n",
        "                                  nn.Linear(64, 2))"
      ],
      "execution_count": 0,
      "outputs": []
    },
    {
      "cell_type": "code",
      "metadata": {
        "id": "xkAME0wix-Y2",
        "colab_type": "code",
        "colab": {
          "base_uri": "https://localhost:8080/",
          "height": 397
        },
        "outputId": "b51259e8-6732-4088-8f4a-035fb014b733"
      },
      "source": [
        "summary(simple_lstm_model, torch.zeros((1, 5), dtype=torch.long))"
      ],
      "execution_count": 18,
      "outputs": [
        {
          "output_type": "stream",
          "text": [
            "=============================================================\n",
            "                Kernel Shape Output Shape   Params Mult-Adds\n",
            "Layer                                                       \n",
            "0_0             [100, 89730]  [1, 5, 100]        -         -\n",
            "1_1.LSTM_model             -   [1, 5, 64]  42.496k   41.984k\n",
            "2_2                  [64, 2]       [1, 2]    130.0     128.0\n",
            "-------------------------------------------------------------\n",
            "                         Totals\n",
            "Total params          9.015626M\n",
            "Trainable params        42.626k\n",
            "Non-trainable params     8.973M\n",
            "Mult-Adds               42.112k\n",
            "=============================================================\n"
          ],
          "name": "stdout"
        },
        {
          "output_type": "execute_result",
          "data": {
            "text/html": [
              "<div>\n",
              "<style scoped>\n",
              "    .dataframe tbody tr th:only-of-type {\n",
              "        vertical-align: middle;\n",
              "    }\n",
              "\n",
              "    .dataframe tbody tr th {\n",
              "        vertical-align: top;\n",
              "    }\n",
              "\n",
              "    .dataframe thead th {\n",
              "        text-align: right;\n",
              "    }\n",
              "</style>\n",
              "<table border=\"1\" class=\"dataframe\">\n",
              "  <thead>\n",
              "    <tr style=\"text-align: right;\">\n",
              "      <th></th>\n",
              "      <th>Kernel Shape</th>\n",
              "      <th>Output Shape</th>\n",
              "      <th>Params</th>\n",
              "      <th>Mult-Adds</th>\n",
              "    </tr>\n",
              "    <tr>\n",
              "      <th>Layer</th>\n",
              "      <th></th>\n",
              "      <th></th>\n",
              "      <th></th>\n",
              "      <th></th>\n",
              "    </tr>\n",
              "  </thead>\n",
              "  <tbody>\n",
              "    <tr>\n",
              "      <th>0_0</th>\n",
              "      <td>[100, 89730]</td>\n",
              "      <td>[1, 5, 100]</td>\n",
              "      <td>NaN</td>\n",
              "      <td>NaN</td>\n",
              "    </tr>\n",
              "    <tr>\n",
              "      <th>1_1.LSTM_model</th>\n",
              "      <td>-</td>\n",
              "      <td>[1, 5, 64]</td>\n",
              "      <td>42496.0</td>\n",
              "      <td>41984.0</td>\n",
              "    </tr>\n",
              "    <tr>\n",
              "      <th>2_2</th>\n",
              "      <td>[64, 2]</td>\n",
              "      <td>[1, 2]</td>\n",
              "      <td>130.0</td>\n",
              "      <td>128.0</td>\n",
              "    </tr>\n",
              "  </tbody>\n",
              "</table>\n",
              "</div>"
            ],
            "text/plain": [
              "                Kernel Shape Output Shape   Params  Mult-Adds\n",
              "Layer                                                        \n",
              "0_0             [100, 89730]  [1, 5, 100]      NaN        NaN\n",
              "1_1.LSTM_model             -   [1, 5, 64]  42496.0    41984.0\n",
              "2_2                  [64, 2]       [1, 2]    130.0      128.0"
            ]
          },
          "metadata": {
            "tags": []
          },
          "execution_count": 18
        }
      ]
    },
    {
      "cell_type": "code",
      "metadata": {
        "id": "sCgSySZxx-Y4",
        "colab_type": "code",
        "colab": {
          "base_uri": "https://localhost:8080/",
          "height": 799
        },
        "outputId": "e26b8f44-e4e3-447a-bc25-0bfc02790b45"
      },
      "source": [
        "num_epochs = 10  # during optimization, how many times we look at training data\n",
        "batch_size = 32  # during optimization, how many training data to use at each step\n",
        "learning_rate = 0.01  # during optimization, how much we nudge our solution at each step\n",
        "\n",
        "train_accuracies, val_accuracies = \\\n",
        "    UDA_pytorch_classifier_fit(simple_lstm_model,\n",
        "                               torch.optim.Adam(simple_lstm_model.parameters(),\n",
        "                                                lr=learning_rate),\n",
        "                               nn.CrossEntropyLoss(),  # includes softmax\n",
        "                               proper_train_dataset_encoded, val_dataset_encoded,\n",
        "                               num_epochs, batch_size,\n",
        "                               sequence=True)\n",
        "\n",
        "UDA_plot_train_val_accuracy_vs_epoch(train_accuracies, val_accuracies)"
      ],
      "execution_count": 21,
      "outputs": [
        {
          "output_type": "stream",
          "text": [
            "Epoch 1 [==================================================] 3760/3760\n",
            "  Train accuracy: 0.7096\n",
            "  Validation accuracy: 0.7340\n",
            "Epoch 2 [==================================================] 3760/3760\n",
            "  Train accuracy: 0.7088\n",
            "  Validation accuracy: 0.7362\n",
            "Epoch 3 [==================================================] 3760/3760\n",
            "  Train accuracy: 0.7085\n",
            "  Validation accuracy: 0.7362\n",
            "Epoch 4 [==================================================] 3760/3760\n",
            "  Train accuracy: 0.7096\n",
            "  Validation accuracy: 0.7372\n",
            "Epoch 5 [==================================================] 3760/3760\n",
            "  Train accuracy: 0.7096\n",
            "  Validation accuracy: 0.7340\n",
            "Epoch 6 [==================================================] 3760/3760\n",
            "  Train accuracy: 0.7096\n",
            "  Validation accuracy: 0.7340\n",
            "Epoch 7 [==================================================] 3760/3760\n",
            "  Train accuracy: 0.7098\n",
            "  Validation accuracy: 0.7309\n",
            "Epoch 8 [==================================================] 3760/3760\n",
            "  Train accuracy: 0.7085\n",
            "  Validation accuracy: 0.7309\n",
            "Epoch 9 [==================================================] 3760/3760\n",
            "  Train accuracy: 0.7090\n",
            "  Validation accuracy: 0.7330\n",
            "Epoch 10 [==================================================] 3760/3760\n",
            "  Train accuracy: 0.7093\n",
            "  Validation accuracy: 0.7287\n"
          ],
          "name": "stdout"
        },
        {
          "output_type": "display_data",
          "data": {
            "image/png": "[encoded data removed]",
            "text/plain": [
              "<Figure size 432x288 with 1 Axes>"
            ]
          },
          "metadata": {
            "tags": [],
            "needs_background": "light"
          }
        }
      ]
    },
    {
      "cell_type": "code",
      "metadata": {
        "id": "jP7uLK5zx-Y6",
        "colab_type": "code",
        "colab": {}
      },
      "source": [
        ""
      ],
      "execution_count": 0,
      "outputs": []
    }
  ]
}