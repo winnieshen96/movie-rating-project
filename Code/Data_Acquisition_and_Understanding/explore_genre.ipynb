{
 "cells": [
  {
   "cell_type": "code",
   "execution_count": 1,
   "metadata": {},
   "outputs": [],
   "source": [
    "import pandas as pd"
   ]
  },
  {
   "cell_type": "code",
   "execution_count": 2,
   "metadata": {},
   "outputs": [
    {
     "data": {
      "text/html": [
       "<div>\n",
       "<style scoped>\n",
       "    .dataframe tbody tr th:only-of-type {\n",
       "        vertical-align: middle;\n",
       "    }\n",
       "\n",
       "    .dataframe tbody tr th {\n",
       "        vertical-align: top;\n",
       "    }\n",
       "\n",
       "    .dataframe thead th {\n",
       "        text-align: right;\n",
       "    }\n",
       "</style>\n",
       "<table border=\"1\" class=\"dataframe\">\n",
       "  <thead>\n",
       "    <tr style=\"text-align: right;\">\n",
       "      <th></th>\n",
       "      <th>tconst</th>\n",
       "      <th>name</th>\n",
       "      <th>date</th>\n",
       "      <th>prod_budget</th>\n",
       "      <th>domestic_gross</th>\n",
       "      <th>worldwide_gross</th>\n",
       "      <th>startYear</th>\n",
       "      <th>runtimeMinutes</th>\n",
       "      <th>Action</th>\n",
       "      <th>Adventure</th>\n",
       "      <th>...</th>\n",
       "      <th>Family</th>\n",
       "      <th>Crime</th>\n",
       "      <th>Horror</th>\n",
       "      <th>History</th>\n",
       "      <th>Romance</th>\n",
       "      <th>Mystery</th>\n",
       "      <th>Musical</th>\n",
       "      <th>Documentary</th>\n",
       "      <th>ROI_domestic</th>\n",
       "      <th>ROI_worldwide</th>\n",
       "    </tr>\n",
       "  </thead>\n",
       "  <tbody>\n",
       "    <tr>\n",
       "      <td>0</td>\n",
       "      <td>tt4154796</td>\n",
       "      <td>Avengers: Endgame</td>\n",
       "      <td>2019</td>\n",
       "      <td>400000000</td>\n",
       "      <td>858373000</td>\n",
       "      <td>2797800564</td>\n",
       "      <td>2019</td>\n",
       "      <td>181</td>\n",
       "      <td>1</td>\n",
       "      <td>1</td>\n",
       "      <td>...</td>\n",
       "      <td>0</td>\n",
       "      <td>0</td>\n",
       "      <td>0</td>\n",
       "      <td>0</td>\n",
       "      <td>0</td>\n",
       "      <td>0</td>\n",
       "      <td>0</td>\n",
       "      <td>0</td>\n",
       "      <td>2.145933</td>\n",
       "      <td>6.994501</td>\n",
       "    </tr>\n",
       "    <tr>\n",
       "      <td>1</td>\n",
       "      <td>tt1298650</td>\n",
       "      <td>Pirates of the Caribbean: On Stranger Tides</td>\n",
       "      <td>2011</td>\n",
       "      <td>379000000</td>\n",
       "      <td>241063875</td>\n",
       "      <td>1045663875</td>\n",
       "      <td>2011</td>\n",
       "      <td>136</td>\n",
       "      <td>1</td>\n",
       "      <td>1</td>\n",
       "      <td>...</td>\n",
       "      <td>0</td>\n",
       "      <td>0</td>\n",
       "      <td>0</td>\n",
       "      <td>0</td>\n",
       "      <td>0</td>\n",
       "      <td>0</td>\n",
       "      <td>0</td>\n",
       "      <td>0</td>\n",
       "      <td>0.636052</td>\n",
       "      <td>2.759008</td>\n",
       "    </tr>\n",
       "    <tr>\n",
       "      <td>2</td>\n",
       "      <td>tt2395427</td>\n",
       "      <td>Avengers: Age of Ultron</td>\n",
       "      <td>2015</td>\n",
       "      <td>365000000</td>\n",
       "      <td>459005868</td>\n",
       "      <td>1403013963</td>\n",
       "      <td>2015</td>\n",
       "      <td>141</td>\n",
       "      <td>1</td>\n",
       "      <td>1</td>\n",
       "      <td>...</td>\n",
       "      <td>0</td>\n",
       "      <td>0</td>\n",
       "      <td>0</td>\n",
       "      <td>0</td>\n",
       "      <td>0</td>\n",
       "      <td>0</td>\n",
       "      <td>0</td>\n",
       "      <td>0</td>\n",
       "      <td>1.257550</td>\n",
       "      <td>3.843874</td>\n",
       "    </tr>\n",
       "    <tr>\n",
       "      <td>3</td>\n",
       "      <td>tt4154756</td>\n",
       "      <td>Avengers: Infinity War</td>\n",
       "      <td>2018</td>\n",
       "      <td>300000000</td>\n",
       "      <td>678815482</td>\n",
       "      <td>2048359754</td>\n",
       "      <td>2018</td>\n",
       "      <td>149</td>\n",
       "      <td>1</td>\n",
       "      <td>1</td>\n",
       "      <td>...</td>\n",
       "      <td>0</td>\n",
       "      <td>0</td>\n",
       "      <td>0</td>\n",
       "      <td>0</td>\n",
       "      <td>0</td>\n",
       "      <td>0</td>\n",
       "      <td>0</td>\n",
       "      <td>0</td>\n",
       "      <td>2.262718</td>\n",
       "      <td>6.827866</td>\n",
       "    </tr>\n",
       "    <tr>\n",
       "      <td>4</td>\n",
       "      <td>tt0974015</td>\n",
       "      <td>Justice League</td>\n",
       "      <td>2017</td>\n",
       "      <td>300000000</td>\n",
       "      <td>229024295</td>\n",
       "      <td>655945209</td>\n",
       "      <td>2017</td>\n",
       "      <td>120</td>\n",
       "      <td>1</td>\n",
       "      <td>1</td>\n",
       "      <td>...</td>\n",
       "      <td>0</td>\n",
       "      <td>0</td>\n",
       "      <td>0</td>\n",
       "      <td>0</td>\n",
       "      <td>0</td>\n",
       "      <td>0</td>\n",
       "      <td>0</td>\n",
       "      <td>0</td>\n",
       "      <td>0.763414</td>\n",
       "      <td>2.186484</td>\n",
       "    </tr>\n",
       "  </tbody>\n",
       "</table>\n",
       "<p>5 rows × 26 columns</p>\n",
       "</div>"
      ],
      "text/plain": [
       "      tconst                                         name  date  prod_budget  \\\n",
       "0  tt4154796                            Avengers: Endgame  2019    400000000   \n",
       "1  tt1298650  Pirates of the Caribbean: On Stranger Tides  2011    379000000   \n",
       "2  tt2395427                      Avengers: Age of Ultron  2015    365000000   \n",
       "3  tt4154756                       Avengers: Infinity War  2018    300000000   \n",
       "4  tt0974015                               Justice League  2017    300000000   \n",
       "\n",
       "   domestic_gross  worldwide_gross  startYear runtimeMinutes  Action  \\\n",
       "0       858373000       2797800564       2019            181       1   \n",
       "1       241063875       1045663875       2011            136       1   \n",
       "2       459005868       1403013963       2015            141       1   \n",
       "3       678815482       2048359754       2018            149       1   \n",
       "4       229024295        655945209       2017            120       1   \n",
       "\n",
       "   Adventure  ...  Family  Crime  Horror  History  Romance  Mystery  Musical  \\\n",
       "0          1  ...       0      0       0        0        0        0        0   \n",
       "1          1  ...       0      0       0        0        0        0        0   \n",
       "2          1  ...       0      0       0        0        0        0        0   \n",
       "3          1  ...       0      0       0        0        0        0        0   \n",
       "4          1  ...       0      0       0        0        0        0        0   \n",
       "\n",
       "   Documentary  ROI_domestic  ROI_worldwide  \n",
       "0            0      2.145933       6.994501  \n",
       "1            0      0.636052       2.759008  \n",
       "2            0      1.257550       3.843874  \n",
       "3            0      2.262718       6.827866  \n",
       "4            0      0.763414       2.186484  \n",
       "\n",
       "[5 rows x 26 columns]"
      ]
     },
     "execution_count": 2,
     "metadata": {},
     "output_type": "execute_result"
    }
   ],
   "source": [
    "filename = '../../Sample_Data/Processed/roi.genresplitted.tsv'\n",
    "df = pd.read_csv(filename, sep='\\t')\n",
    "df.head()"
   ]
  },
  {
   "cell_type": "code",
   "execution_count": 3,
   "metadata": {},
   "outputs": [
    {
     "data": {
      "text/plain": [
       "Index(['tconst', 'name', 'date', 'prod_budget', 'domestic_gross',\n",
       "       'worldwide_gross', 'startYear', 'runtimeMinutes', 'Action', 'Adventure',\n",
       "       'Drama', 'Fantasy', 'Sci-Fi', 'Thriller', 'Animation', 'Comedy',\n",
       "       'Family', 'Crime', 'Horror', 'History', 'Romance', 'Mystery', 'Musical',\n",
       "       'Documentary', 'ROI_domestic', 'ROI_worldwide'],\n",
       "      dtype='object')"
      ]
     },
     "execution_count": 3,
     "metadata": {},
     "output_type": "execute_result"
    }
   ],
   "source": [
    "df.columns"
   ]
  },
  {
   "cell_type": "code",
   "execution_count": 26,
   "metadata": {},
   "outputs": [
    {
     "data": {
      "text/plain": [
       "count    5246.000000\n",
       "mean     2012.813953\n",
       "std         6.838494\n",
       "min      1966.000000\n",
       "25%      2011.000000\n",
       "50%      2013.500000\n",
       "75%      2017.000000\n",
       "max      2020.000000\n",
       "Name: startYear, dtype: float64"
      ]
     },
     "execution_count": 26,
     "metadata": {},
     "output_type": "execute_result"
    }
   ],
   "source": [
    "df.startYear.describe()"
   ]
  },
  {
   "cell_type": "code",
   "execution_count": 28,
   "metadata": {},
   "outputs": [
    {
     "data": {
      "text/plain": [
       "<matplotlib.axes._subplots.AxesSubplot at 0x2e903701ac8>"
      ]
     },
     "execution_count": 28,
     "metadata": {},
     "output_type": "execute_result"
    },
    {
     "data": {
      "image/png": "[encoded data removed]",
      "text/plain": [
       "<Figure size 432x288 with 1 Axes>"
      ]
     },
     "metadata": {
      "needs_background": "light"
     },
     "output_type": "display_data"
    }
   ],
   "source": [
    "import matplotlib.pyplot as plt\n",
    "%matplotlib inline\n",
    "df.startYear.hist()"
   ]
  },
  {
   "cell_type": "code",
   "execution_count": 6,
   "metadata": {},
   "outputs": [
    {
     "name": "stdout",
     "output_type": "stream",
     "text": [
      "count    3660.000000\n",
      "mean        1.244382\n",
      "std         0.771897\n",
      "min         0.224885\n",
      "25%         0.694408\n",
      "50%         1.059289\n",
      "75%         1.723126\n",
      "max         3.500298\n",
      "Name: ROI_domestic, dtype: float64\n",
      "\n",
      "count    3660.000000\n",
      "mean        3.533031\n",
      "std         1.840943\n",
      "min         1.016662\n",
      "25%         1.917471\n",
      "50%         3.374471\n",
      "75%         4.722268\n",
      "max         7.993278\n",
      "Name: ROI_worldwide, dtype: float64\n"
     ]
    }
   ],
   "source": [
    "# Action\n",
    "print(df[df['Action'] == 1].ROI_domestic.describe())\n",
    "print()\n",
    "print(df[df['Action'] == 1].ROI_worldwide.describe())"
   ]
  },
  {
   "cell_type": "code",
   "execution_count": 7,
   "metadata": {},
   "outputs": [
    {
     "name": "stdout",
     "output_type": "stream",
     "text": [
      "count    4209.000000\n",
      "mean        1.246690\n",
      "std         0.746505\n",
      "min         0.224885\n",
      "25%         0.703573\n",
      "50%         1.053527\n",
      "75%         1.750324\n",
      "max         3.500298\n",
      "Name: ROI_domestic, dtype: float64\n",
      "\n",
      "count    4209.000000\n",
      "mean        3.656370\n",
      "std         1.782048\n",
      "min         1.013783\n",
      "25%         2.252797\n",
      "50%         3.544982\n",
      "75%         4.955059\n",
      "max         7.993278\n",
      "Name: ROI_worldwide, dtype: float64\n"
     ]
    }
   ],
   "source": [
    "# Adventure\n",
    "print(df[df['Adventure'] == 1].ROI_domestic.describe())\n",
    "print()\n",
    "print(df[df['Adventure'] == 1].ROI_worldwide.describe())"
   ]
  },
  {
   "cell_type": "code",
   "execution_count": 8,
   "metadata": {},
   "outputs": [
    {
     "name": "stdout",
     "output_type": "stream",
     "text": [
      "count    488.000000\n",
      "mean       1.511127\n",
      "std        0.789971\n",
      "min        0.497590\n",
      "25%        0.747632\n",
      "50%        1.497766\n",
      "75%        2.104670\n",
      "max        2.893157\n",
      "Name: ROI_domestic, dtype: float64\n",
      "\n",
      "count    488.000000\n",
      "mean       3.767154\n",
      "std        2.048457\n",
      "min        1.401932\n",
      "25%        1.919075\n",
      "50%        3.071978\n",
      "75%        5.661496\n",
      "max        6.994501\n",
      "Name: ROI_worldwide, dtype: float64\n"
     ]
    }
   ],
   "source": [
    "# Drama\n",
    "print(df[df['Drama'] == 1].ROI_domestic.describe())\n",
    "print()\n",
    "print(df[df['Drama'] == 1].ROI_worldwide.describe())"
   ]
  },
  {
   "cell_type": "code",
   "execution_count": 9,
   "metadata": {},
   "outputs": [
    {
     "name": "stdout",
     "output_type": "stream",
     "text": [
      "count    854.000000\n",
      "mean       0.815388\n",
      "std        0.362208\n",
      "min        0.224885\n",
      "25%        0.615836\n",
      "50%        0.780597\n",
      "75%        1.032966\n",
      "max        1.515018\n",
      "Name: ROI_domestic, dtype: float64\n",
      "\n",
      "count    854.000000\n",
      "mean       2.928191\n",
      "std        1.133725\n",
      "min        1.013783\n",
      "25%        2.186484\n",
      "50%        2.895915\n",
      "75%        3.782310\n",
      "max        5.085018\n",
      "Name: ROI_worldwide, dtype: float64\n"
     ]
    }
   ],
   "source": [
    "# Fantasy\n",
    "print(df[df['Fantasy'] == 1].ROI_domestic.describe())\n",
    "print()\n",
    "print(df[df['Fantasy'] == 1].ROI_worldwide.describe())"
   ]
  },
  {
   "cell_type": "code",
   "execution_count": 10,
   "metadata": {},
   "outputs": [
    {
     "name": "stdout",
     "output_type": "stream",
     "text": [
      "count    1952.000000\n",
      "mean        1.322506\n",
      "std         0.820720\n",
      "min         0.265265\n",
      "25%         0.739655\n",
      "50%         1.180328\n",
      "75%         1.822254\n",
      "max         3.500298\n",
      "Name: ROI_domestic, dtype: float64\n",
      "\n",
      "count    1952.000000\n",
      "mean        3.545697\n",
      "std         1.901376\n",
      "min         1.016662\n",
      "25%         1.824381\n",
      "50%         3.456703\n",
      "75%         4.774203\n",
      "max         7.769305\n",
      "Name: ROI_worldwide, dtype: float64\n"
     ]
    }
   ],
   "source": [
    "# Sci-Fi\n",
    "print(df[df['Sci-Fi'] == 1].ROI_domestic.describe())\n",
    "print()\n",
    "print(df[df['Sci-Fi'] == 1].ROI_worldwide.describe())"
   ]
  },
  {
   "cell_type": "code",
   "execution_count": 11,
   "metadata": {},
   "outputs": [
    {
     "name": "stdout",
     "output_type": "stream",
     "text": [
      "count    244.000000\n",
      "mean       1.195758\n",
      "std        0.509838\n",
      "min        0.666914\n",
      "25%        0.719017\n",
      "50%        1.129093\n",
      "75%        1.605834\n",
      "max        1.857932\n",
      "Name: ROI_domestic, dtype: float64\n",
      "\n",
      "count    244.000000\n",
      "mean       4.762639\n",
      "std        2.195879\n",
      "min        2.572574\n",
      "25%        2.842196\n",
      "50%        4.242352\n",
      "75%        6.162796\n",
      "max        7.993278\n",
      "Name: ROI_worldwide, dtype: float64\n"
     ]
    }
   ],
   "source": [
    "# Thriller\n",
    "print(df[df['Thriller'] == 1].ROI_domestic.describe())\n",
    "print()\n",
    "print(df[df['Thriller'] == 1].ROI_worldwide.describe())"
   ]
  },
  {
   "cell_type": "code",
   "execution_count": 12,
   "metadata": {},
   "outputs": [
    {
     "name": "stdout",
     "output_type": "stream",
     "text": [
      "count    610.000000\n",
      "mean       1.721002\n",
      "std        0.740768\n",
      "min        0.656465\n",
      "25%        0.957254\n",
      "50%        1.872990\n",
      "75%        2.170190\n",
      "max        3.042909\n",
      "Name: ROI_domestic, dtype: float64\n",
      "\n",
      "count    610.000000\n",
      "mean       4.412019\n",
      "std        1.569291\n",
      "min        1.780112\n",
      "25%        2.800777\n",
      "50%        5.135155\n",
      "75%        5.366974\n",
      "max        6.372859\n",
      "Name: ROI_worldwide, dtype: float64\n"
     ]
    }
   ],
   "source": [
    "# Animation\n",
    "print(df[df['Animation'] == 1].ROI_domestic.describe())\n",
    "print()\n",
    "print(df[df['Animation'] == 1].ROI_worldwide.describe())"
   ]
  },
  {
   "cell_type": "code",
   "execution_count": 13,
   "metadata": {},
   "outputs": [
    {
     "name": "stdout",
     "output_type": "stream",
     "text": [
      "count    793.000000\n",
      "mean       1.371550\n",
      "std        0.650255\n",
      "min        0.396898\n",
      "25%        0.778478\n",
      "50%        1.342442\n",
      "75%        1.953622\n",
      "max        2.431478\n",
      "Name: ROI_domestic, dtype: float64\n",
      "\n",
      "count    793.000000\n",
      "mean       3.514965\n",
      "std        1.557336\n",
      "min        1.155565\n",
      "25%        2.252797\n",
      "50%        3.146084\n",
      "75%        5.142854\n",
      "max        5.774501\n",
      "Name: ROI_worldwide, dtype: float64\n"
     ]
    }
   ],
   "source": [
    "# Comedy\n",
    "print(df[df['Comedy'] == 1].ROI_domestic.describe())\n",
    "print()\n",
    "print(df[df['Comedy'] == 1].ROI_worldwide.describe())"
   ]
  },
  {
   "cell_type": "code",
   "execution_count": 14,
   "metadata": {},
   "outputs": [
    {
     "name": "stdout",
     "output_type": "stream",
     "text": [
      "count    671.000000\n",
      "mean       1.266670\n",
      "std        0.757687\n",
      "min        0.341989\n",
      "25%        0.629429\n",
      "50%        1.208357\n",
      "75%        1.515018\n",
      "max        3.296820\n",
      "Name: ROI_domestic, dtype: float64\n",
      "\n",
      "count    671.000000\n",
      "mean       3.977645\n",
      "std        2.453550\n",
      "min        1.791525\n",
      "25%        2.451795\n",
      "50%        3.261100\n",
      "75%        4.522431\n",
      "max       11.041042\n",
      "Name: ROI_worldwide, dtype: float64\n"
     ]
    }
   ],
   "source": [
    "# Family\n",
    "print(df[df['Family'] == 1].ROI_domestic.describe())\n",
    "print()\n",
    "print(df[df['Family'] == 1].ROI_worldwide.describe())"
   ]
  },
  {
   "cell_type": "code",
   "execution_count": 15,
   "metadata": {},
   "outputs": [
    {
     "name": "stdout",
     "output_type": "stream",
     "text": [
      "count    183.000000\n",
      "mean       1.524898\n",
      "std        0.971499\n",
      "min        0.778478\n",
      "25%        0.778478\n",
      "50%        0.903059\n",
      "75%        2.893157\n",
      "max        2.893157\n",
      "Name: ROI_domestic, dtype: float64\n",
      "\n",
      "count    183.000000\n",
      "mean       3.934970\n",
      "std        1.789690\n",
      "min        1.425477\n",
      "25%        1.425477\n",
      "50%        4.955059\n",
      "75%        5.424375\n",
      "max        5.424375\n",
      "Name: ROI_worldwide, dtype: float64\n"
     ]
    }
   ],
   "source": [
    "# Crime\n",
    "print(df[df['Crime'] == 1].ROI_domestic.describe())\n",
    "print()\n",
    "print(df[df['Crime'] == 1].ROI_worldwide.describe())"
   ]
  },
  {
   "cell_type": "code",
   "execution_count": 16,
   "metadata": {},
   "outputs": [
    {
     "name": "stdout",
     "output_type": "stream",
     "text": [
      "count    183.000000\n",
      "mean       1.561573\n",
      "std        1.198343\n",
      "min        0.410775\n",
      "25%        0.410775\n",
      "50%        1.065051\n",
      "75%        3.208893\n",
      "max        3.208893\n",
      "Name: ROI_domestic, dtype: float64\n",
      "\n",
      "count    183.000000\n",
      "mean       5.555482\n",
      "std        4.413208\n",
      "min        2.102328\n",
      "25%        2.102328\n",
      "50%        2.797446\n",
      "75%       11.766672\n",
      "max       11.766672\n",
      "Name: ROI_worldwide, dtype: float64\n"
     ]
    }
   ],
   "source": [
    "# Horror\n",
    "print(df[df['Horror'] == 1].ROI_domestic.describe())\n",
    "print()\n",
    "print(df[df['Horror'] == 1].ROI_worldwide.describe())"
   ]
  },
  {
   "cell_type": "code",
   "execution_count": 17,
   "metadata": {},
   "outputs": [
    {
     "name": "stdout",
     "output_type": "stream",
     "text": [
      "count    6.100000e+01\n",
      "mean     5.023198e-01\n",
      "std      1.119437e-16\n",
      "min      5.023198e-01\n",
      "25%      5.023198e-01\n",
      "50%      5.023198e-01\n",
      "75%      5.023198e-01\n",
      "max      5.023198e-01\n",
      "Name: ROI_domestic, dtype: float64\n",
      "\n",
      "count    6.100000e+01\n",
      "mean     1.535519e+00\n",
      "std      1.343324e-15\n",
      "min      1.535519e+00\n",
      "25%      1.535519e+00\n",
      "50%      1.535519e+00\n",
      "75%      1.535519e+00\n",
      "max      1.535519e+00\n",
      "Name: ROI_worldwide, dtype: float64\n"
     ]
    }
   ],
   "source": [
    "# History\n",
    "print(df[df['History'] == 1].ROI_domestic.describe())\n",
    "print()\n",
    "print(df[df['History'] == 1].ROI_worldwide.describe())"
   ]
  },
  {
   "cell_type": "code",
   "execution_count": 18,
   "metadata": {},
   "outputs": [
    {
     "name": "stdout",
     "output_type": "stream",
     "text": [
      "count    122.000000\n",
      "mean       1.357970\n",
      "std        0.598108\n",
      "min        0.762318\n",
      "25%        0.762318\n",
      "50%        1.357970\n",
      "75%        1.953622\n",
      "max        1.953622\n",
      "Name: ROI_domestic, dtype: float64\n",
      "\n",
      "count    122.000000\n",
      "mean       3.817883\n",
      "std        1.964686\n",
      "min        1.861265\n",
      "25%        1.861265\n",
      "50%        3.817883\n",
      "75%        5.774501\n",
      "max        5.774501\n",
      "Name: ROI_worldwide, dtype: float64\n"
     ]
    }
   ],
   "source": [
    "# Romance\n",
    "print(df[df['Romance'] == 1].ROI_domestic.describe())\n",
    "print()\n",
    "print(df[df['Romance'] == 1].ROI_worldwide.describe())"
   ]
  },
  {
   "cell_type": "code",
   "execution_count": 19,
   "metadata": {},
   "outputs": [
    {
     "name": "stdout",
     "output_type": "stream",
     "text": [
      "count    6.100000e+01\n",
      "mean     4.975900e-01\n",
      "std      6.716620e-16\n",
      "min      4.975900e-01\n",
      "25%      4.975900e-01\n",
      "50%      4.975900e-01\n",
      "75%      4.975900e-01\n",
      "max      4.975900e-01\n",
      "Name: ROI_domestic, dtype: float64\n",
      "\n",
      "count    6.100000e+01\n",
      "mean     1.401932e+00\n",
      "std      2.014986e-15\n",
      "min      1.401932e+00\n",
      "25%      1.401932e+00\n",
      "50%      1.401932e+00\n",
      "75%      1.401932e+00\n",
      "max      1.401932e+00\n",
      "Name: ROI_worldwide, dtype: float64\n"
     ]
    }
   ],
   "source": [
    "# Mystery\n",
    "print(df[df['Mystery'] == 1].ROI_domestic.describe())\n",
    "print()\n",
    "print(df[df['Mystery'] == 1].ROI_worldwide.describe())"
   ]
  },
  {
   "cell_type": "code",
   "execution_count": 20,
   "metadata": {},
   "outputs": [
    {
     "name": "stdout",
     "output_type": "stream",
     "text": [
      "count    6.100000e+01\n",
      "mean     1.953622e+00\n",
      "std      1.119437e-15\n",
      "min      1.953622e+00\n",
      "25%      1.953622e+00\n",
      "50%      1.953622e+00\n",
      "75%      1.953622e+00\n",
      "max      1.953622e+00\n",
      "Name: ROI_domestic, dtype: float64\n",
      "\n",
      "count    6.100000e+01\n",
      "mean     5.774501e+00\n",
      "std      3.582197e-15\n",
      "min      5.774501e+00\n",
      "25%      5.774501e+00\n",
      "50%      5.774501e+00\n",
      "75%      5.774501e+00\n",
      "max      5.774501e+00\n",
      "Name: ROI_worldwide, dtype: float64\n"
     ]
    }
   ],
   "source": [
    "# Musical\n",
    "print(df[df['Musical'] == 1].ROI_domestic.describe())\n",
    "print()\n",
    "print(df[df['Musical'] == 1].ROI_worldwide.describe())"
   ]
  },
  {
   "cell_type": "code",
   "execution_count": 21,
   "metadata": {},
   "outputs": [
    {
     "name": "stdout",
     "output_type": "stream",
     "text": [
      "count    6.100000e+01\n",
      "mean     4.103584e-01\n",
      "std      1.679155e-16\n",
      "min      4.103584e-01\n",
      "25%      4.103584e-01\n",
      "50%      4.103584e-01\n",
      "75%      4.103584e-01\n",
      "max      4.103584e-01\n",
      "Name: ROI_domestic, dtype: float64\n",
      "\n",
      "count    6.100000e+01\n",
      "mean     1.000265e+00\n",
      "std      6.716620e-16\n",
      "min      1.000265e+00\n",
      "25%      1.000265e+00\n",
      "50%      1.000265e+00\n",
      "75%      1.000265e+00\n",
      "max      1.000265e+00\n",
      "Name: ROI_worldwide, dtype: float64\n"
     ]
    }
   ],
   "source": [
    "# Documentary\n",
    "print(df[df['Documentary'] == 1].ROI_domestic.describe())\n",
    "print()\n",
    "print(df[df['Documentary'] == 1].ROI_worldwide.describe())"
   ]
  },
  {
   "cell_type": "code",
   "execution_count": 23,
   "metadata": {},
   "outputs": [],
   "source": [
    "import numpy as np\n",
    "from sklearn.linear_model import LinearRegression\n",
    "import statsmodels.api as sm"
   ]
  },
  {
   "cell_type": "code",
   "execution_count": 24,
   "metadata": {},
   "outputs": [
    {
     "name": "stdout",
     "output_type": "stream",
     "text": [
      "                            OLS Regression Results                            \n",
      "==============================================================================\n",
      "Dep. Variable:           ROI_domestic   R-squared:                       0.218\n",
      "Model:                            OLS   Adj. R-squared:                  0.216\n",
      "Method:                 Least Squares   F-statistic:                     91.08\n",
      "Date:                Mon, 20 Apr 2020   Prob (F-statistic):          2.81e-264\n",
      "Time:                        19:20:33   Log-Likelihood:                -5528.4\n",
      "No. Observations:                5246   AIC:                         1.109e+04\n",
      "Df Residuals:                    5229   BIC:                         1.120e+04\n",
      "Df Model:                          16                                         \n",
      "Covariance Type:            nonrobust                                         \n",
      "===============================================================================\n",
      "                  coef    std err          t      P>|t|      [0.025      0.975]\n",
      "-------------------------------------------------------------------------------\n",
      "const           1.6092      0.058     27.926      0.000       1.496       1.722\n",
      "Action         -0.2123      0.043     -4.951      0.000      -0.296      -0.128\n",
      "Adventure      -0.0402      0.033     -1.216      0.224      -0.105       0.025\n",
      "Drama           0.2540      0.046      5.495      0.000       0.163       0.345\n",
      "Fantasy        -0.7586      0.045    -16.736      0.000      -0.847      -0.670\n",
      "Sci-Fi         -0.0405      0.036     -1.139      0.255      -0.110       0.029\n",
      "Thriller       -0.1610      0.055     -2.935      0.003      -0.268      -0.053\n",
      "Animation       0.5254      0.054      9.681      0.000       0.419       0.632\n",
      "Comedy         -0.5451      0.040    -13.702      0.000      -0.623      -0.467\n",
      "Family          0.1885      0.040      4.733      0.000       0.110       0.267\n",
      "Crime           0.2384      0.060      3.958      0.000       0.120       0.356\n",
      "Horror          0.0365      0.069      0.529      0.597      -0.099       0.172\n",
      "History        -0.8544      0.095     -9.031      0.000      -1.040      -0.669\n",
      "Romance        -1.1009      0.103    -10.739      0.000      -1.302      -0.900\n",
      "Mystery        -1.1534      0.101    -11.427      0.000      -1.351      -0.955\n",
      "Musical         1.9905      0.136     14.622      0.000       1.724       2.257\n",
      "Documentary    -1.1988      0.106    -11.306      0.000      -1.407      -0.991\n",
      "==============================================================================\n",
      "Omnibus:                      448.372   Durbin-Watson:                   1.648\n",
      "Prob(Omnibus):                  0.000   Jarque-Bera (JB):              568.852\n",
      "Skew:                           0.780   Prob(JB):                    2.99e-124\n",
      "Kurtosis:                       3.414   Cond. No.                         26.1\n",
      "==============================================================================\n",
      "\n",
      "Warnings:\n",
      "[1] Standard Errors assume that the covariance matrix of the errors is correctly specified.\n"
     ]
    },
    {
     "name": "stderr",
     "output_type": "stream",
     "text": [
      "C:\\Users\\huiwe\\Anaconda3\\lib\\site-packages\\numpy\\core\\fromnumeric.py:2389: FutureWarning: Method .ptp is deprecated and will be removed in a future version. Use numpy.ptp instead.\n",
      "  return ptp(axis=axis, out=out, **kwargs)\n"
     ]
    }
   ],
   "source": [
    "X = df.iloc[:, 8:24]\n",
    "y_domestic = df.iloc[:, 24]\n",
    "\n",
    "X2 = sm.add_constant(X)\n",
    "est = sm.OLS(y_domestic, X2)\n",
    "est2 = est.fit()\n",
    "print(est2.summary())"
   ]
  },
  {
   "cell_type": "code",
   "execution_count": 25,
   "metadata": {},
   "outputs": [
    {
     "name": "stdout",
     "output_type": "stream",
     "text": [
      "                            OLS Regression Results                            \n",
      "==============================================================================\n",
      "Dep. Variable:          ROI_worldwide   R-squared:                       0.241\n",
      "Model:                            OLS   Adj. R-squared:                  0.238\n",
      "Method:                 Least Squares   F-statistic:                     103.6\n",
      "Date:                Mon, 20 Apr 2020   Prob (F-statistic):          1.43e-297\n",
      "Time:                        19:21:14   Log-Likelihood:                -10632.\n",
      "No. Observations:                5246   AIC:                         2.130e+04\n",
      "Df Residuals:                    5229   BIC:                         2.141e+04\n",
      "Df Model:                          16                                         \n",
      "Covariance Type:            nonrobust                                         \n",
      "===============================================================================\n",
      "                  coef    std err          t      P>|t|      [0.025      0.975]\n",
      "-------------------------------------------------------------------------------\n",
      "const           5.7166      0.152     37.501      0.000       5.418       6.015\n",
      "Action         -1.5608      0.113    -13.761      0.000      -1.783      -1.338\n",
      "Adventure       0.2734      0.087      3.126      0.002       0.102       0.445\n",
      "Drama          -0.3625      0.122     -2.965      0.003      -0.602      -0.123\n",
      "Fantasy        -2.5414      0.120    -21.194      0.000      -2.776      -2.306\n",
      "Sci-Fi         -0.8408      0.094     -8.933      0.000      -1.025      -0.656\n",
      "Thriller        0.3334      0.145      2.298      0.022       0.049       0.618\n",
      "Animation       0.2135      0.144      1.487      0.137      -0.068       0.495\n",
      "Comedy         -2.2455      0.105    -21.335      0.000      -2.452      -2.039\n",
      "Family          0.0863      0.105      0.819      0.413      -0.120       0.293\n",
      "Crime           0.5574      0.159      3.498      0.000       0.245       0.870\n",
      "Horror          0.2680      0.183      1.468      0.142      -0.090       0.626\n",
      "History        -2.8937      0.250    -11.562      0.000      -3.384      -2.403\n",
      "Romance        -3.4928      0.271    -12.879      0.000      -4.025      -2.961\n",
      "Mystery        -2.3913      0.267     -8.956      0.000      -2.915      -1.868\n",
      "Musical         5.7962      0.360     16.095      0.000       5.090       6.502\n",
      "Documentary    -4.7164      0.281    -16.813      0.000      -5.266      -4.166\n",
      "==============================================================================\n",
      "Omnibus:                      398.959   Durbin-Watson:                   1.890\n",
      "Prob(Omnibus):                  0.000   Jarque-Bera (JB):              502.674\n",
      "Skew:                           0.699   Prob(JB):                    7.01e-110\n",
      "Kurtosis:                       3.589   Cond. No.                         26.1\n",
      "==============================================================================\n",
      "\n",
      "Warnings:\n",
      "[1] Standard Errors assume that the covariance matrix of the errors is correctly specified.\n"
     ]
    }
   ],
   "source": [
    "y_worldwide = df.iloc[:, 25]\n",
    "\n",
    "est = sm.OLS(y_worldwide, X2)\n",
    "est2 = est.fit()\n",
    "print(est2.summary())"
   ]
  }
 ],
 "metadata": {
  "kernelspec": {
   "display_name": "Python 3",
   "language": "python",
   "name": "python3"
  },
  "language_info": {
   "codemirror_mode": {
    "name": "ipython",
    "version": 3
   },
   "file_extension": ".py",
   "mimetype": "text/x-python",
   "name": "python",
   "nbconvert_exporter": "python",
   "pygments_lexer": "ipython3",
   "version": "3.7.4"
  }
 },
 "nbformat": 4,
 "nbformat_minor": 2
}
