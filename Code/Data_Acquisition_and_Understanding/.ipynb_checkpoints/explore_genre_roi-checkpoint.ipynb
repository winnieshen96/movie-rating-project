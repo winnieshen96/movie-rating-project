{
 "cells": [
  {
   "cell_type": "code",
   "execution_count": 1,
   "metadata": {},
   "outputs": [],
   "source": [
    "import pandas as pd"
   ]
  },
  {
   "cell_type": "code",
   "execution_count": 2,
   "metadata": {},
   "outputs": [
    {
     "data": {
      "text/html": [
       "<div>\n",
       "<style scoped>\n",
       "    .dataframe tbody tr th:only-of-type {\n",
       "        vertical-align: middle;\n",
       "    }\n",
       "\n",
       "    .dataframe tbody tr th {\n",
       "        vertical-align: top;\n",
       "    }\n",
       "\n",
       "    .dataframe thead th {\n",
       "        text-align: right;\n",
       "    }\n",
       "</style>\n",
       "<table border=\"1\" class=\"dataframe\">\n",
       "  <thead>\n",
       "    <tr style=\"text-align: right;\">\n",
       "      <th></th>\n",
       "      <th>tconst</th>\n",
       "      <th>name</th>\n",
       "      <th>date</th>\n",
       "      <th>prod_budget</th>\n",
       "      <th>domestic_gross</th>\n",
       "      <th>worldwide_gross</th>\n",
       "      <th>isAdult</th>\n",
       "      <th>startYear</th>\n",
       "      <th>runtimeMinutes</th>\n",
       "      <th>Action</th>\n",
       "      <th>...</th>\n",
       "      <th>Adult</th>\n",
       "      <th>War</th>\n",
       "      <th>Biography</th>\n",
       "      <th>Western</th>\n",
       "      <th>Sport</th>\n",
       "      <th>Music</th>\n",
       "      <th>News</th>\n",
       "      <th>Film-Noir</th>\n",
       "      <th>ROI_domestic</th>\n",
       "      <th>ROI_worldwide</th>\n",
       "    </tr>\n",
       "  </thead>\n",
       "  <tbody>\n",
       "    <tr>\n",
       "      <td>0</td>\n",
       "      <td>tt4154796</td>\n",
       "      <td>Avengers: Endgame</td>\n",
       "      <td>2019</td>\n",
       "      <td>400000000</td>\n",
       "      <td>858373000</td>\n",
       "      <td>2797800564</td>\n",
       "      <td>0</td>\n",
       "      <td>2019</td>\n",
       "      <td>181</td>\n",
       "      <td>1</td>\n",
       "      <td>...</td>\n",
       "      <td>0</td>\n",
       "      <td>0</td>\n",
       "      <td>0</td>\n",
       "      <td>0</td>\n",
       "      <td>0</td>\n",
       "      <td>0</td>\n",
       "      <td>0</td>\n",
       "      <td>0</td>\n",
       "      <td>2.145933</td>\n",
       "      <td>6.994501</td>\n",
       "    </tr>\n",
       "    <tr>\n",
       "      <td>1</td>\n",
       "      <td>tt1298650</td>\n",
       "      <td>Pirates of the Caribbean: On Stranger Tides</td>\n",
       "      <td>2011</td>\n",
       "      <td>379000000</td>\n",
       "      <td>241063875</td>\n",
       "      <td>1045663875</td>\n",
       "      <td>0</td>\n",
       "      <td>2011</td>\n",
       "      <td>136</td>\n",
       "      <td>1</td>\n",
       "      <td>...</td>\n",
       "      <td>0</td>\n",
       "      <td>0</td>\n",
       "      <td>0</td>\n",
       "      <td>0</td>\n",
       "      <td>0</td>\n",
       "      <td>0</td>\n",
       "      <td>0</td>\n",
       "      <td>0</td>\n",
       "      <td>0.636052</td>\n",
       "      <td>2.759008</td>\n",
       "    </tr>\n",
       "    <tr>\n",
       "      <td>2</td>\n",
       "      <td>tt2395427</td>\n",
       "      <td>Avengers: Age of Ultron</td>\n",
       "      <td>2015</td>\n",
       "      <td>365000000</td>\n",
       "      <td>459005868</td>\n",
       "      <td>1403013963</td>\n",
       "      <td>0</td>\n",
       "      <td>2015</td>\n",
       "      <td>141</td>\n",
       "      <td>1</td>\n",
       "      <td>...</td>\n",
       "      <td>0</td>\n",
       "      <td>0</td>\n",
       "      <td>0</td>\n",
       "      <td>0</td>\n",
       "      <td>0</td>\n",
       "      <td>0</td>\n",
       "      <td>0</td>\n",
       "      <td>0</td>\n",
       "      <td>1.257550</td>\n",
       "      <td>3.843874</td>\n",
       "    </tr>\n",
       "    <tr>\n",
       "      <td>3</td>\n",
       "      <td>tt4154756</td>\n",
       "      <td>Avengers: Infinity War</td>\n",
       "      <td>2018</td>\n",
       "      <td>300000000</td>\n",
       "      <td>678815482</td>\n",
       "      <td>2048359754</td>\n",
       "      <td>0</td>\n",
       "      <td>2018</td>\n",
       "      <td>149</td>\n",
       "      <td>1</td>\n",
       "      <td>...</td>\n",
       "      <td>0</td>\n",
       "      <td>0</td>\n",
       "      <td>0</td>\n",
       "      <td>0</td>\n",
       "      <td>0</td>\n",
       "      <td>0</td>\n",
       "      <td>0</td>\n",
       "      <td>0</td>\n",
       "      <td>2.262718</td>\n",
       "      <td>6.827866</td>\n",
       "    </tr>\n",
       "    <tr>\n",
       "      <td>4</td>\n",
       "      <td>tt0974015</td>\n",
       "      <td>Justice League</td>\n",
       "      <td>2017</td>\n",
       "      <td>300000000</td>\n",
       "      <td>229024295</td>\n",
       "      <td>655945209</td>\n",
       "      <td>0</td>\n",
       "      <td>2017</td>\n",
       "      <td>120</td>\n",
       "      <td>1</td>\n",
       "      <td>...</td>\n",
       "      <td>0</td>\n",
       "      <td>0</td>\n",
       "      <td>0</td>\n",
       "      <td>0</td>\n",
       "      <td>0</td>\n",
       "      <td>0</td>\n",
       "      <td>0</td>\n",
       "      <td>0</td>\n",
       "      <td>0.763414</td>\n",
       "      <td>2.186484</td>\n",
       "    </tr>\n",
       "  </tbody>\n",
       "</table>\n",
       "<p>5 rows × 35 columns</p>\n",
       "</div>"
      ],
      "text/plain": [
       "      tconst                                         name  date  prod_budget  \\\n",
       "0  tt4154796                            Avengers: Endgame  2019    400000000   \n",
       "1  tt1298650  Pirates of the Caribbean: On Stranger Tides  2011    379000000   \n",
       "2  tt2395427                      Avengers: Age of Ultron  2015    365000000   \n",
       "3  tt4154756                       Avengers: Infinity War  2018    300000000   \n",
       "4  tt0974015                               Justice League  2017    300000000   \n",
       "\n",
       "   domestic_gross  worldwide_gross  isAdult startYear runtimeMinutes  Action  \\\n",
       "0       858373000       2797800564        0      2019            181       1   \n",
       "1       241063875       1045663875        0      2011            136       1   \n",
       "2       459005868       1403013963        0      2015            141       1   \n",
       "3       678815482       2048359754        0      2018            149       1   \n",
       "4       229024295        655945209        0      2017            120       1   \n",
       "\n",
       "   ...  Adult  War  Biography  Western  Sport  Music  News  Film-Noir  \\\n",
       "0  ...      0    0          0        0      0      0     0          0   \n",
       "1  ...      0    0          0        0      0      0     0          0   \n",
       "2  ...      0    0          0        0      0      0     0          0   \n",
       "3  ...      0    0          0        0      0      0     0          0   \n",
       "4  ...      0    0          0        0      0      0     0          0   \n",
       "\n",
       "   ROI_domestic  ROI_worldwide  \n",
       "0      2.145933       6.994501  \n",
       "1      0.636052       2.759008  \n",
       "2      1.257550       3.843874  \n",
       "3      2.262718       6.827866  \n",
       "4      0.763414       2.186484  \n",
       "\n",
       "[5 rows x 35 columns]"
      ]
     },
     "execution_count": 2,
     "metadata": {},
     "output_type": "execute_result"
    }
   ],
   "source": [
    "filename = '../../Sample_Data/Processed/roi.genresplitted.tsv'\n",
    "df = pd.read_csv(filename, sep='\\t')\n",
    "df.head()"
   ]
  },
  {
   "cell_type": "code",
   "execution_count": 3,
   "metadata": {},
   "outputs": [
    {
     "data": {
      "text/plain": [
       "Index(['tconst', 'name', 'date', 'prod_budget', 'domestic_gross',\n",
       "       'worldwide_gross', 'isAdult', 'startYear', 'runtimeMinutes', 'Action',\n",
       "       'Adventure', 'Drama', 'Fantasy', 'Sci-Fi', 'Thriller', 'Animation',\n",
       "       'Comedy', 'Family', 'Crime', 'Horror', 'History', 'Romance', 'Mystery',\n",
       "       'Musical', 'Documentary', 'Adult', 'War', 'Biography', 'Western',\n",
       "       'Sport', 'Music', 'News', 'Film-Noir', 'ROI_domestic', 'ROI_worldwide'],\n",
       "      dtype='object')"
      ]
     },
     "execution_count": 3,
     "metadata": {},
     "output_type": "execute_result"
    }
   ],
   "source": [
    "df.columns"
   ]
  },
  {
   "cell_type": "code",
   "execution_count": 4,
   "metadata": {},
   "outputs": [
    {
     "data": {
      "text/plain": [
       "count     4705\n",
       "unique      94\n",
       "top         \\N\n",
       "freq       444\n",
       "Name: startYear, dtype: object"
      ]
     },
     "execution_count": 4,
     "metadata": {},
     "output_type": "execute_result"
    }
   ],
   "source": [
    "df.startYear.describe()"
   ]
  },
  {
   "cell_type": "code",
   "execution_count": 6,
   "metadata": {},
   "outputs": [
    {
     "name": "stdout",
     "output_type": "stream",
     "text": [
      "count    1042.000000\n",
      "mean        2.184911\n",
      "std        10.903993\n",
      "min         0.000107\n",
      "25%         0.464021\n",
      "50%         0.922344\n",
      "75%         1.747889\n",
      "max       291.560000\n",
      "Name: ROI_domestic, dtype: float64\n",
      "\n",
      "count    1042.000000\n",
      "mean        4.542886\n",
      "std        20.744525\n",
      "min         0.000138\n",
      "25%         0.965096\n",
      "50%         2.082652\n",
      "75%         3.651764\n",
      "max       498.750000\n",
      "Name: ROI_worldwide, dtype: float64\n"
     ]
    }
   ],
   "source": [
    "# Action\n",
    "print(df[df['Action'] == 1].ROI_domestic.describe())\n",
    "print()\n",
    "print(df[df['Action'] == 1].ROI_worldwide.describe())"
   ]
  },
  {
   "cell_type": "code",
   "execution_count": 7,
   "metadata": {},
   "outputs": [
    {
     "name": "stdout",
     "output_type": "stream",
     "text": [
      "count    778.000000\n",
      "mean       1.879952\n",
      "std        3.504547\n",
      "min        0.000120\n",
      "25%        0.555019\n",
      "50%        1.061606\n",
      "75%        2.010632\n",
      "max       61.001764\n",
      "Name: ROI_domestic, dtype: float64\n",
      "\n",
      "count    778.000000\n",
      "mean       4.388799\n",
      "std       18.705068\n",
      "min        0.002616\n",
      "25%        1.157545\n",
      "50%        2.477994\n",
      "75%        4.387067\n",
      "max      498.750000\n",
      "Name: ROI_worldwide, dtype: float64\n"
     ]
    }
   ],
   "source": [
    "# Adventure\n",
    "print(df[df['Adventure'] == 1].ROI_domestic.describe())\n",
    "print()\n",
    "print(df[df['Adventure'] == 1].ROI_worldwide.describe())"
   ]
  },
  {
   "cell_type": "code",
   "execution_count": 8,
   "metadata": {},
   "outputs": [
    {
     "name": "stdout",
     "output_type": "stream",
     "text": [
      "count    2221.000000\n",
      "mean        2.628465\n",
      "std         9.744623\n",
      "min         0.000031\n",
      "25%         0.323804\n",
      "50%         0.944144\n",
      "75%         2.200000\n",
      "max       208.530120\n",
      "Name: ROI_domestic, dtype: float64\n",
      "\n",
      "count    2221.000000\n",
      "mean        4.154397\n",
      "std        13.836053\n",
      "min         0.000479\n",
      "25%         0.588744\n",
      "50%         1.630401\n",
      "75%         3.728945\n",
      "max       342.058585\n",
      "Name: ROI_worldwide, dtype: float64\n"
     ]
    }
   ],
   "source": [
    "# Drama\n",
    "print(df[df['Drama'] == 1].ROI_domestic.describe())\n",
    "print()\n",
    "print(df[df['Drama'] == 1].ROI_worldwide.describe())"
   ]
  },
  {
   "cell_type": "code",
   "execution_count": 9,
   "metadata": {},
   "outputs": [
    {
     "name": "stdout",
     "output_type": "stream",
     "text": [
      "count    314.000000\n",
      "mean       2.781962\n",
      "std       10.189570\n",
      "min        0.000078\n",
      "25%        0.439184\n",
      "50%        0.995549\n",
      "75%        1.910864\n",
      "max      124.277880\n",
      "Name: ROI_domestic, dtype: float64\n",
      "\n",
      "count    314.000000\n",
      "mean       4.081339\n",
      "std       10.428733\n",
      "min        0.000479\n",
      "25%        0.992231\n",
      "50%        2.039189\n",
      "75%        3.772293\n",
      "max      124.277880\n",
      "Name: ROI_worldwide, dtype: float64\n"
     ]
    }
   ],
   "source": [
    "# Fantasy\n",
    "print(df[df['Fantasy'] == 1].ROI_domestic.describe())\n",
    "print()\n",
    "print(df[df['Fantasy'] == 1].ROI_worldwide.describe())"
   ]
  },
  {
   "cell_type": "code",
   "execution_count": 10,
   "metadata": {},
   "outputs": [
    {
     "name": "stdout",
     "output_type": "stream",
     "text": [
      "count    343.000000\n",
      "mean       2.706897\n",
      "std       12.809777\n",
      "min        0.001056\n",
      "25%        0.494558\n",
      "50%        1.002681\n",
      "75%        2.039801\n",
      "max      227.644100\n",
      "Name: ROI_domestic, dtype: float64\n",
      "\n",
      "count    343.000000\n",
      "mean       6.155964\n",
      "std       35.126504\n",
      "min        0.001056\n",
      "25%        0.966423\n",
      "50%        2.283249\n",
      "75%        4.380317\n",
      "max      498.750000\n",
      "Name: ROI_worldwide, dtype: float64\n"
     ]
    }
   ],
   "source": [
    "# Sci-Fi\n",
    "print(df[df['Sci-Fi'] == 1].ROI_domestic.describe())\n",
    "print()\n",
    "print(df[df['Sci-Fi'] == 1].ROI_worldwide.describe())"
   ]
  },
  {
   "cell_type": "code",
   "execution_count": 11,
   "metadata": {},
   "outputs": [
    {
     "name": "stdout",
     "output_type": "stream",
     "text": [
      "count    652.000000\n",
      "mean       3.738861\n",
      "std       17.065817\n",
      "min        0.000138\n",
      "25%        0.491107\n",
      "50%        1.078674\n",
      "75%        2.190953\n",
      "max      291.560000\n",
      "Name: ROI_domestic, dtype: float64\n",
      "\n",
      "count    652.000000\n",
      "mean       6.335056\n",
      "std       24.260155\n",
      "min        0.000138\n",
      "25%        0.943808\n",
      "50%        2.215413\n",
      "75%        4.253168\n",
      "max      431.517853\n",
      "Name: ROI_worldwide, dtype: float64\n"
     ]
    }
   ],
   "source": [
    "# Thriller\n",
    "print(df[df['Thriller'] == 1].ROI_domestic.describe())\n",
    "print()\n",
    "print(df[df['Thriller'] == 1].ROI_worldwide.describe())"
   ]
  },
  {
   "cell_type": "code",
   "execution_count": 12,
   "metadata": {},
   "outputs": [
    {
     "name": "stdout",
     "output_type": "stream",
     "text": [
      "count    228.000000\n",
      "mean       2.042876\n",
      "std        4.403720\n",
      "min        0.000120\n",
      "25%        0.629932\n",
      "50%        1.132116\n",
      "75%        2.173681\n",
      "max       44.897959\n",
      "Name: ROI_domestic, dtype: float64\n",
      "\n",
      "count    228.000000\n",
      "mean       4.424700\n",
      "std        7.683810\n",
      "min        0.021620\n",
      "25%        1.459455\n",
      "50%        2.782107\n",
      "75%        5.125609\n",
      "max       89.795918\n",
      "Name: ROI_worldwide, dtype: float64\n"
     ]
    }
   ],
   "source": [
    "# Animation\n",
    "print(df[df['Animation'] == 1].ROI_domestic.describe())\n",
    "print()\n",
    "print(df[df['Animation'] == 1].ROI_worldwide.describe())"
   ]
  },
  {
   "cell_type": "code",
   "execution_count": 13,
   "metadata": {},
   "outputs": [
    {
     "name": "stdout",
     "output_type": "stream",
     "text": [
      "count    1617.000000\n",
      "mean        4.052749\n",
      "std        45.946215\n",
      "min         0.000120\n",
      "25%         0.540930\n",
      "50%         1.196769\n",
      "75%         2.350443\n",
      "max      1800.000000\n",
      "Name: ROI_domestic, dtype: float64\n",
      "\n",
      "count    1617.000000\n",
      "mean        5.509907\n",
      "std        46.828762\n",
      "min         0.000703\n",
      "25%         0.846106\n",
      "50%         2.029552\n",
      "75%         4.084332\n",
      "max      1800.000000\n",
      "Name: ROI_worldwide, dtype: float64\n"
     ]
    }
   ],
   "source": [
    "# Comedy\n",
    "print(df[df['Comedy'] == 1].ROI_domestic.describe())\n",
    "print()\n",
    "print(df[df['Comedy'] == 1].ROI_worldwide.describe())"
   ]
  },
  {
   "cell_type": "code",
   "execution_count": 14,
   "metadata": {},
   "outputs": [
    {
     "name": "stdout",
     "output_type": "stream",
     "text": [
      "count    285.000000\n",
      "mean       2.123387\n",
      "std        2.954738\n",
      "min        0.001605\n",
      "25%        0.549185\n",
      "50%        1.277467\n",
      "75%        2.260097\n",
      "max       21.850000\n",
      "Name: ROI_domestic, dtype: float64\n",
      "\n",
      "count    285.000000\n",
      "mean       3.315560\n",
      "std        3.980869\n",
      "min        0.001605\n",
      "25%        0.991237\n",
      "50%        2.135069\n",
      "75%        4.114078\n",
      "max       34.904181\n",
      "Name: ROI_worldwide, dtype: float64\n"
     ]
    }
   ],
   "source": [
    "# Family\n",
    "print(df[df['Family'] == 1].ROI_domestic.describe())\n",
    "print()\n",
    "print(df[df['Family'] == 1].ROI_worldwide.describe())"
   ]
  },
  {
   "cell_type": "code",
   "execution_count": 15,
   "metadata": {},
   "outputs": [
    {
     "name": "stdout",
     "output_type": "stream",
     "text": [
      "count    650.000000\n",
      "mean       2.098290\n",
      "std       11.758701\n",
      "min        0.000107\n",
      "25%        0.317304\n",
      "50%        0.862766\n",
      "75%        1.845974\n",
      "max      291.560000\n",
      "Name: ROI_domestic, dtype: float64\n",
      "\n",
      "count    650.000000\n",
      "mean       3.107163\n",
      "std       12.058849\n",
      "min        0.000138\n",
      "25%        0.577919\n",
      "50%        1.514357\n",
      "75%        3.041864\n",
      "max      291.704000\n",
      "Name: ROI_worldwide, dtype: float64\n"
     ]
    }
   ],
   "source": [
    "# Crime\n",
    "print(df[df['Crime'] == 1].ROI_domestic.describe())\n",
    "print()\n",
    "print(df[df['Crime'] == 1].ROI_worldwide.describe())"
   ]
  },
  {
   "cell_type": "code",
   "execution_count": 16,
   "metadata": {},
   "outputs": [
    {
     "name": "stdout",
     "output_type": "stream",
     "text": [
      "count    461.000000\n",
      "mean       6.547344\n",
      "std       23.479199\n",
      "min        0.000210\n",
      "25%        0.606747\n",
      "50%        1.543316\n",
      "75%        3.526128\n",
      "max      239.819578\n",
      "Name: ROI_domestic, dtype: float64\n",
      "\n",
      "count    461.000000\n",
      "mean      11.051065\n",
      "std       40.034645\n",
      "min        0.001057\n",
      "25%        1.113019\n",
      "50%        2.709503\n",
      "75%        6.066477\n",
      "max      431.517853\n",
      "Name: ROI_worldwide, dtype: float64\n"
     ]
    }
   ],
   "source": [
    "# Horror\n",
    "print(df[df['Horror'] == 1].ROI_domestic.describe())\n",
    "print()\n",
    "print(df[df['Horror'] == 1].ROI_worldwide.describe())"
   ]
  },
  {
   "cell_type": "code",
   "execution_count": 17,
   "metadata": {},
   "outputs": [
    {
     "name": "stdout",
     "output_type": "stream",
     "text": [
      "count    148.000000\n",
      "mean       1.769259\n",
      "std        7.545992\n",
      "min        0.000031\n",
      "25%        0.235576\n",
      "50%        0.636930\n",
      "75%        1.565845\n",
      "max       90.909091\n",
      "Name: ROI_domestic, dtype: float64\n",
      "\n",
      "count    148.000000\n",
      "mean       3.190167\n",
      "std       10.988900\n",
      "min        0.004123\n",
      "25%        0.410511\n",
      "50%        1.300019\n",
      "75%        2.791825\n",
      "max      100.000000\n",
      "Name: ROI_worldwide, dtype: float64\n"
     ]
    }
   ],
   "source": [
    "# History\n",
    "print(df[df['History'] == 1].ROI_domestic.describe())\n",
    "print()\n",
    "print(df[df['History'] == 1].ROI_worldwide.describe())"
   ]
  },
  {
   "cell_type": "code",
   "execution_count": 18,
   "metadata": {},
   "outputs": [
    {
     "name": "stdout",
     "output_type": "stream",
     "text": [
      "count    650.000000\n",
      "mean       2.976315\n",
      "std       10.890074\n",
      "min        0.000078\n",
      "25%        0.443254\n",
      "50%        1.086322\n",
      "75%        2.400070\n",
      "max      208.530120\n",
      "Name: ROI_domestic, dtype: float64\n",
      "\n",
      "count    650.000000\n",
      "mean       4.628339\n",
      "std       14.906545\n",
      "min        0.000479\n",
      "25%        0.733918\n",
      "50%        1.911940\n",
      "75%        4.016357\n",
      "max      225.000000\n",
      "Name: ROI_worldwide, dtype: float64\n"
     ]
    }
   ],
   "source": [
    "# Romance\n",
    "print(df[df['Romance'] == 1].ROI_domestic.describe())\n",
    "print()\n",
    "print(df[df['Romance'] == 1].ROI_worldwide.describe())"
   ]
  },
  {
   "cell_type": "code",
   "execution_count": 19,
   "metadata": {},
   "outputs": [
    {
     "name": "stdout",
     "output_type": "stream",
     "text": [
      "count    303.000000\n",
      "mean       5.451792\n",
      "std       23.958998\n",
      "min        0.000480\n",
      "25%        0.493276\n",
      "50%        1.294360\n",
      "75%        2.762189\n",
      "max      239.819578\n",
      "Name: ROI_domestic, dtype: float64\n",
      "\n",
      "count    303.000000\n",
      "mean       9.930208\n",
      "std       42.885910\n",
      "min        0.002040\n",
      "25%        1.001798\n",
      "50%        2.399740\n",
      "75%        5.220870\n",
      "max      431.517853\n",
      "Name: ROI_worldwide, dtype: float64\n"
     ]
    }
   ],
   "source": [
    "# Mystery\n",
    "print(df[df['Mystery'] == 1].ROI_domestic.describe())\n",
    "print()\n",
    "print(df[df['Mystery'] == 1].ROI_worldwide.describe())"
   ]
  },
  {
   "cell_type": "code",
   "execution_count": 20,
   "metadata": {},
   "outputs": [
    {
     "name": "stdout",
     "output_type": "stream",
     "text": [
      "count    56.000000\n",
      "mean      2.158396\n",
      "std       2.570855\n",
      "min       0.001218\n",
      "25%       0.417388\n",
      "50%       1.306646\n",
      "75%       2.913506\n",
      "max      10.316658\n",
      "Name: ROI_domestic, dtype: float64\n",
      "\n",
      "count    56.000000\n",
      "mean      3.499232\n",
      "std       4.357384\n",
      "min       0.001218\n",
      "25%       0.788269\n",
      "50%       2.038058\n",
      "75%       4.397503\n",
      "max      21.935352\n",
      "Name: ROI_worldwide, dtype: float64\n"
     ]
    }
   ],
   "source": [
    "# Musical\n",
    "print(df[df['Musical'] == 1].ROI_domestic.describe())\n",
    "print()\n",
    "print(df[df['Musical'] == 1].ROI_worldwide.describe())"
   ]
  },
  {
   "cell_type": "code",
   "execution_count": 21,
   "metadata": {},
   "outputs": [
    {
     "name": "stdout",
     "output_type": "stream",
     "text": [
      "count    271.000000\n",
      "mean       3.710832\n",
      "std       14.273455\n",
      "min        0.000039\n",
      "25%        0.311739\n",
      "50%        0.876245\n",
      "75%        2.387693\n",
      "max      177.374892\n",
      "Name: ROI_domestic, dtype: float64\n",
      "\n",
      "count    271.000000\n",
      "mean       6.488544\n",
      "std       28.993935\n",
      "min        0.001977\n",
      "25%        0.662092\n",
      "50%        1.670514\n",
      "75%        3.800171\n",
      "max      342.058585\n",
      "Name: ROI_worldwide, dtype: float64\n"
     ]
    }
   ],
   "source": [
    "# Documentary\n",
    "print(df[df['Documentary'] == 1].ROI_domestic.describe())\n",
    "print()\n",
    "print(df[df['Documentary'] == 1].ROI_worldwide.describe())"
   ]
  },
  {
   "cell_type": "code",
   "execution_count": 22,
   "metadata": {},
   "outputs": [],
   "source": [
    "import numpy as np\n",
    "from sklearn.linear_model import LinearRegression\n",
    "import statsmodels.api as sm"
   ]
  },
  {
   "cell_type": "code",
   "execution_count": 28,
   "metadata": {},
   "outputs": [
    {
     "name": "stdout",
     "output_type": "stream",
     "text": [
      "                            OLS Regression Results                            \n",
      "==============================================================================\n",
      "Dep. Variable:           ROI_domestic   R-squared:                       0.050\n",
      "Model:                            OLS   Adj. R-squared:                  0.046\n",
      "Method:                 Least Squares   F-statistic:                     10.37\n",
      "Date:                Wed, 22 Apr 2020   Prob (F-statistic):           3.98e-38\n",
      "Time:                        20:38:46   Log-Likelihood:                -22348.\n",
      "No. Observations:                4705   AIC:                         4.475e+04\n",
      "Df Residuals:                    4680   BIC:                         4.491e+04\n",
      "Df Model:                          24                                         \n",
      "Covariance Type:            nonrobust                                         \n",
      "===============================================================================\n",
      "                  coef    std err          t      P>|t|      [0.025      0.975]\n",
      "-------------------------------------------------------------------------------\n",
      "const           1.4995      1.375      1.091      0.275      -1.195       4.194\n",
      "Action          0.1945      1.196      0.163      0.871      -2.149       2.538\n",
      "Adventure      -0.7063      1.340     -0.527      0.598      -3.332       1.920\n",
      "Drama           0.1606      1.054      0.152      0.879      -1.906       2.227\n",
      "Fantasy        -0.1301      1.723     -0.075      0.940      -3.508       3.248\n",
      "Sci-Fi         -0.0045      1.708     -0.003      0.998      -3.353       3.344\n",
      "Thriller        0.8246      1.351      0.610      0.542      -1.825       3.474\n",
      "Animation      -0.5048      2.138     -0.236      0.813      -4.696       3.686\n",
      "Comedy          2.3908      1.061      2.254      0.024       0.311       4.471\n",
      "Family         -0.3561      1.810     -0.197      0.844      -3.904       3.192\n",
      "Crime          -0.8213      1.285     -0.639      0.523      -3.340       1.697\n",
      "Horror          4.0323      1.596      2.526      0.012       0.903       7.161\n",
      "History        -0.2927      2.486     -0.118      0.906      -5.167       4.581\n",
      "Romance         0.0160      1.306      0.012      0.990      -2.544       2.576\n",
      "Mystery         2.0568      1.768      1.164      0.245      -1.408       5.522\n",
      "Musical        -0.7520      3.800     -0.198      0.843      -8.202       6.697\n",
      "Documentary     2.0147      2.073      0.972      0.331      -2.049       6.078\n",
      "Adult         104.5248      6.893     15.164      0.000      91.011     118.039\n",
      "War            -0.0594      3.065     -0.019      0.985      -6.068       5.949\n",
      "Biography       0.3871      1.809      0.214      0.831      -3.159       3.934\n",
      "Western         1.6334      4.265      0.383      0.702      -6.728       9.995\n",
      "Sport           0.7186      2.653      0.271      0.786      -4.482       5.919\n",
      "Music          -0.2687      2.463     -0.109      0.913      -5.097       4.559\n",
      "News            1.3074     10.744      0.122      0.903     -19.756      22.371\n",
      "Film-Noir       5.7352     19.848      0.289      0.773     -33.177      44.647\n",
      "==============================================================================\n",
      "Omnibus:                    14663.983   Durbin-Watson:                   1.811\n",
      "Prob(Omnibus):                  0.000   Jarque-Bera (JB):       1596729558.530\n",
      "Skew:                          47.875   Prob(JB):                         0.00\n",
      "Kurtosis:                    2855.311   Cond. No.                         60.6\n",
      "==============================================================================\n",
      "\n",
      "Warnings:\n",
      "[1] Standard Errors assume that the covariance matrix of the errors is correctly specified.\n"
     ]
    }
   ],
   "source": [
    "X = df.iloc[:, 9:33]\n",
    "y_domestic = df['ROI_domestic']\n",
    "\n",
    "X2 = sm.add_constant(X)\n",
    "est = sm.OLS(y_domestic, X2)\n",
    "est2 = est.fit()\n",
    "print(est2.summary())"
   ]
  },
  {
   "cell_type": "code",
   "execution_count": 29,
   "metadata": {},
   "outputs": [
    {
     "name": "stdout",
     "output_type": "stream",
     "text": [
      "                            OLS Regression Results                            \n",
      "==============================================================================\n",
      "Dep. Variable:          ROI_worldwide   R-squared:                       0.042\n",
      "Model:                            OLS   Adj. R-squared:                  0.038\n",
      "Method:                 Least Squares   F-statistic:                     8.642\n",
      "Date:                Wed, 22 Apr 2020   Prob (F-statistic):           2.27e-30\n",
      "Time:                        20:38:47   Log-Likelihood:                -22947.\n",
      "No. Observations:                4705   AIC:                         4.594e+04\n",
      "Df Residuals:                    4680   BIC:                         4.610e+04\n",
      "Df Model:                          24                                         \n",
      "Covariance Type:            nonrobust                                         \n",
      "===============================================================================\n",
      "                  coef    std err          t      P>|t|      [0.025      0.975]\n",
      "-------------------------------------------------------------------------------\n",
      "const           2.7984      1.561      1.792      0.073      -0.262       5.859\n",
      "Action          0.9014      1.358      0.664      0.507      -1.761       3.564\n",
      "Adventure      -0.0012      1.521     -0.001      0.999      -2.984       2.981\n",
      "Drama           0.0203      1.197      0.017      0.986      -2.327       2.368\n",
      "Fantasy        -1.0509      1.957     -0.537      0.591      -4.888       2.786\n",
      "Sci-Fi          0.9329      1.940      0.481      0.631      -2.870       4.736\n",
      "Thriller        1.0853      1.535      0.707      0.480      -1.924       4.095\n",
      "Animation       0.0924      2.428      0.038      0.970      -4.668       4.853\n",
      "Comedy          2.2143      1.205      1.838      0.066      -0.148       4.577\n",
      "Family         -0.5713      2.055     -0.278      0.781      -4.601       3.458\n",
      "Crime          -1.7157      1.459     -1.176      0.240      -4.576       1.145\n",
      "Horror          6.5563      1.813      3.617      0.000       3.002      10.110\n",
      "History        -0.6738      2.824     -0.239      0.811      -6.210       4.862\n",
      "Romance         0.5029      1.483      0.339      0.735      -2.404       3.410\n",
      "Mystery         4.2987      2.008      2.141      0.032       0.363       8.235\n",
      "Musical        -0.7882      4.316     -0.183      0.855      -9.249       7.673\n",
      "Documentary     3.4246      2.354      1.455      0.146      -1.190       8.040\n",
      "Adult         104.3369      7.829     13.326      0.000      88.988     119.686\n",
      "War             0.4882      3.481      0.140      0.888      -6.337       7.313\n",
      "Biography       1.0978      2.055      0.534      0.593      -2.930       5.126\n",
      "Western         0.7800      4.844      0.161      0.872      -8.717      10.277\n",
      "Sport          -0.2791      3.013     -0.093      0.926      -6.186       5.627\n",
      "Music           0.1690      2.797      0.060      0.952      -5.315       5.653\n",
      "News            3.3233     12.203      0.272      0.785     -20.601      27.248\n",
      "Film-Noir       4.8316     22.544      0.214      0.830     -39.365      49.028\n",
      "==============================================================================\n",
      "Omnibus:                    13094.029   Durbin-Watson:                   1.762\n",
      "Prob(Omnibus):                  0.000   Jarque-Bera (JB):        596569229.078\n",
      "Skew:                          35.232   Prob(JB):                         0.00\n",
      "Kurtosis:                    1746.017   Cond. No.                         60.6\n",
      "==============================================================================\n",
      "\n",
      "Warnings:\n",
      "[1] Standard Errors assume that the covariance matrix of the errors is correctly specified.\n"
     ]
    }
   ],
   "source": [
    "y_worldwide = df['ROI_worldwide']\n",
    "\n",
    "est = sm.OLS(y_worldwide, X2)\n",
    "est2 = est.fit()\n",
    "print(est2.summary())"
   ]
  },
  {
   "cell_type": "code",
   "execution_count": null,
   "metadata": {},
   "outputs": [],
   "source": []
  }
 ],
 "metadata": {
  "kernelspec": {
   "display_name": "Python 3",
   "language": "python",
   "name": "python3"
  },
  "language_info": {
   "codemirror_mode": {
    "name": "ipython",
    "version": 3
   },
   "file_extension": ".py",
   "mimetype": "text/x-python",
   "name": "python",
   "nbconvert_exporter": "python",
   "pygments_lexer": "ipython3",
   "version": "3.7.4"
  }
 },
 "nbformat": 4,
 "nbformat_minor": 2
}
