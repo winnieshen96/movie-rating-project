{
 "cells": [
  {
   "cell_type": "code",
   "execution_count": 6,
   "metadata": {},
   "outputs": [],
   "source": [
    "import requests\n",
    "import re\n",
    "from bs4 import BeautifulSoup\n",
    "import time\n",
    "from datetime import datetime\n",
    "import pandas as pd\n",
    "import os"
   ]
  },
  {
   "cell_type": "code",
   "execution_count": 3,
   "metadata": {},
   "outputs": [],
   "source": [
    "def get_HTML_text(page, url, failList, timeGap, path):\n",
    "#     kv = {'User-Agent': 'Mozilla/5.0'}\n",
    "    try:\n",
    "        time.sleep(timeGap)\n",
    "        r = requests.get(url, timeout=30)\n",
    "        r.raise_for_status()\n",
    "        r.encoding = r.apparent_encoding\n",
    "        return r.text\n",
    "    except:\n",
    "        print(page + \" fail.\" + '\\r\\n')\n",
    "        saveFailedMovie(failList, page, path)"
   ]
  },
  {
   "cell_type": "code",
   "execution_count": 4,
   "metadata": {},
   "outputs": [],
   "source": [
    "def saveFailedPage(faillist, page, path):\n",
    "    faillist.append(page)\n",
    "    filename = os.path.join(path, str('failpageList.txt'))\n",
    "    f = open(filename, 'wt+')\n",
    "    f.write(str(page) + '\\n')\n",
    "    f.close()"
   ]
  },
  {
   "cell_type": "code",
   "execution_count": 16,
   "metadata": {},
   "outputs": [],
   "source": [
    "def get_budget(html):\n",
    "    budgets = []\n",
    "    soup = BeautifulSoup(html, \"html.parser\")\n",
    "    table = soup.find('table')\n",
    "    html = get_HTML_text(page, url, failList, 1, '')\n",
    "    soup = BeautifulSoup(html, \"html.parser\")\n",
    "    table = soup.find('table')\n",
    "    table_rows = table.find_all('tr')\n",
    "    for index, tr in enumerate(table_rows):\n",
    "        if index == 0:\n",
    "            continue\n",
    "        else:\n",
    "            td = tr.find_all('td')\n",
    "            row = [i.text for i in td]\n",
    "            date = str(datetime.strptime(row[1], '%b %d, %Y').year)\n",
    "            name = row[2]\n",
    "            prod_budget = row[3].replace('\\xa0$', '').replace(',', '')\n",
    "            domestic_gross = row[4].replace('\\xa0$', '').replace(',', '')\n",
    "            worldwide_gross = row[5].replace('\\xa0$', '').replace(',', '')\n",
    "            budget = Budget(name, date, prod_budget, domestic_gross, worldwide_gross)\n",
    "            budgets.append(budget)\n",
    "    return budgets"
   ]
  },
  {
   "cell_type": "code",
   "execution_count": 11,
   "metadata": {},
   "outputs": [
    {
     "name": "stdout",
     "output_type": "stream",
     "text": [
      "['Avengers: Endgame', '2019', '400000000', '858373000', '2797800564']\n",
      "['Pirates of the Caribbean: On Stranger Tides', '2011', '379000000', '241063875', '1045663875']\n",
      "['Avengers: Age of Ultron', '2015', '365000000', '459005868', '1403013963']\n",
      "['Star Wars Ep. VII: The Force Awakens', '2015', '306000000', '936662225', '2068223624']\n",
      "['Avengers: Infinity War', '2018', '300000000', '678815482', '2048359754']\n",
      "['Pirates of the Caribbean: At World’s End', '2007', '300000000', '309420425', '963420425']\n",
      "['Justice League', '2017', '300000000', '229024295', '655945209']\n",
      "['Spectre', '2015', '300000000', '200074175', '879620923']\n",
      "['Star Wars: The Rise of Skywalker', '2019', '275000000', '515202542', '1074141030']\n",
      "['Solo: A Star Wars Story', '2018', '275000000', '213767512', '393151347']\n",
      "['John Carter', '2012', '263700000', '73058679', '282778100']\n",
      "['Batman v Superman: Dawn of Justice', '2016', '263000000', '330360194', '873634919']\n",
      "['The Lion King', '2019', '260000000', '543638043', '1656943394']\n",
      "['Tangled', '2010', '260000000', '200821936', '585727091']\n",
      "['Spider-Man 3', '2007', '258000000', '336530303', '894860230']\n",
      "['Captain America: Civil War', '2016', '250000000', '408084349', '1153284349']\n",
      "['Harry Potter and the Half-Blood Prince', '2009', '250000000', '302089278', '935213767']\n",
      "['The Hobbit: The Desolation of Smaug', '2013', '250000000', '258241522', '960241522']\n",
      "['The Hobbit: The Battle of the Five Armies', '2014', '250000000', '255119788', '945577621']\n",
      "['The Fate of the Furious', '2017', '250000000', '225764765', '1238764765']\n",
      "['No Time to Die', '2020', '250000000', '0', '0']\n",
      "['Avatar', '2009', '237000000', '760507625', '2788701337']\n",
      "['Superman Returns', '2006', '232000000', '200120000', '391081192']\n",
      "['The Dark Knight Rises', '2012', '230000000', '448139099', '1084439099']\n",
      "['Pirates of the Caribbean: Dead Men Tell No Tales', '2017', '230000000', '172558876', '788241137']\n",
      "['Quantum of Solace', '2008', '230000000', '169368427', '591692078']\n",
      "['The Avengers', '2012', '225000000', '623357910', '1518812988']\n",
      "['Pirates of the Caribbean: Dead Man’s Chest', '2006', '225000000', '423315812', '1066215812']\n",
      "['Man of Steel', '2013', '225000000', '291045518', '667999518']\n",
      "['The Chronicles of Narnia: Prince Caspian', '2008', '225000000', '141621490', '417341288']\n",
      "['The Lone Ranger', '2013', '225000000', '89302115', '260002115']\n",
      "['Tenet', '2020', '224000000', '0', '0']\n",
      "['The Amazing Spider-Man', '2012', '220000000', '262030663', '757890267']\n",
      "['Battleship', '2012', '220000000', '65233400', '313477717']\n",
      "['Transformers: The Last Knight', '2017', '217000000', '130168683', '602893340']\n",
      "['Jurassic World', '2015', '215000000', '652270625', '1670400637']\n",
      "['Men in Black 3', '2012', '215000000', '179020854', '654213485']\n",
      "['Transformers: Revenge of the Fallen', '2009', '210000000', '402111870', '836519699']\n",
      "['Transformers: Age of Extinction', '2014', '210000000', '245439076', '1104054072']\n",
      "['X-Men: The Last Stand', '2006', '210000000', '234362462', '459260946']\n",
      "['Robin Hood', '2010', '210000000', '105487148', '322459006']\n",
      "['King Kong', '2005', '207000000', '218080025', '550517357']\n",
      "['The Golden Compass', '2007', '205000000', '70107728', '367262558']\n",
      "['Black Panther', '2018', '200000000', '700059566', '1346913161']\n",
      "['Titanic', '1997', '200000000', '659363944', '2208208395']\n",
      "['Star Wars Ep. VIII: The Last Jedi', '2017', '200000000', '620181382', '1332539889']\n",
      "['Incredibles 2', '2018', '200000000', '608581744', '1242805359']\n",
      "['Rogue One: A Star Wars Story', '2016', '200000000', '532177324', '1056057273']\n",
      "['Finding Dory', '2016', '200000000', '486295561', '1028570889']\n",
      "['Toy Story 4', '2019', '200000000', '434038008', '1073394813']\n",
      "['Toy Story 3', '2010', '200000000', '415004880', '1068879522']\n",
      "['Iron Man 3', '2013', '200000000', '408992272', '1215392272']\n",
      "['Guardians of the Galaxy Vol 2', '2017', '200000000', '389813101', '869113101']\n",
      "['Spider-Man 2', '2004', '200000000', '373524485', '794697557']\n",
      "['Alice in Wonderland', '2010', '200000000', '334191110', '1025491110']\n",
      "['Skyfall', '2012', '200000000', '304360277', '1110526981']\n",
      "['The Hobbit: An Unexpected Journey', '2012', '200000000', '303003568', '1017003568']\n",
      "['Monsters University', '2013', '200000000', '268488329', '743588329']\n",
      "['Oz the Great and Powerful', '2013', '200000000', '234770996', '490359051']\n",
      "['X-Men: Days of Future Past', '2014', '200000000', '233921534', '747862775']\n",
      "['The Amazing Spider-Man 2', '2014', '200000000', '202853933', '708996336']\n",
      "['Cars 2', '2011', '200000000', '191450875', '560155383']\n",
      "['Fast & Furious Presents: Hobbs & Shaw', '2019', '200000000', '173956935', '760582290']\n",
      "['Tron: Legacy', '2010', '200000000', '172062763', '400062763']\n",
      "['2012', '2009', '200000000', '166112167', '757677748']\n",
      "['Fantastic Beasts: The Crimes of Grindelwald', '2018', '200000000', '159555901', '652220086']\n",
      "['Terminator Salvation', '2009', '200000000', '125322469', '365491792']\n",
      "['Green Lantern', '2011', '200000000', '116601172', '219535492']\n",
      "['Prince of Persia: Sands of Time', '2010', '200000000', '90759676', '336359676']\n",
      "['Dark Phoenix', '2019', '200000000', '65845974', '246356895']\n",
      "['Transformers: Dark of the Moon', '2011', '195000000', '352390543', '1123794079']\n",
      "['The Mummy', '2017', '195000000', '80101125', '409953905']\n",
      "['Jack the Giant Slayer', '2013', '195000000', '65187603', '197687603']\n",
      "['Furious 7', '2015', '190000000', '353007020', '1518722794']\n",
      "['Star Trek Into Darkness', '2013', '190000000', '228778661', '467381584']\n",
      "['World War Z', '2013', '190000000', '202359711', '531514650']\n",
      "['The Great Gatsby', '2013', '190000000', '144840419', '353640419']\n",
      "['Disney’s A Christmas Carol', '2009', '190000000', '137855863', '315709697']\n",
      "['Pacific Rim', '2013', '190000000', '101802906', '411002906']\n",
      "['The Good Dinosaur', '2015', '187500000', '123087120', '333771037']\n",
      "['Iron Man', '2008', '186000000', '318604126', '585171547']\n",
      "['The Dark Knight', '2008', '185000000', '535234033', '1003509293']\n",
      "['Indiana Jones and the Kingdom of the Crystal Skull', '2008', '185000000', '317101119', '786635413']\n",
      "['Brave', '2012', '185000000', '237282182', '554606532']\n",
      "['Kong: Skull Island', '2017', '185000000', '168052812', '561072059']\n",
      "['Star Trek Beyond', '2016', '185000000', '158848340', '335802233']\n",
      "['Maleficent: Mistress of Evil', '2019', '185000000', '113929605', '489380440']\n",
      "['Blade Runner 2049', '2017', '185000000', '92054159', '259357408']\n",
      "['Terminator: Dark Fate', '2019', '185000000', '62253077', '250491163']\n",
      "['Aladdin', '2019', '182000000', '355559216', '1050959216']\n",
      "['Thor: Ragnarok', '2017', '180000000', '315058289', '853958289']\n",
      "['The Chronicles of Narnia: The Lion, the Witch a…', '2005', '180000000', '291710957', '720539572']\n",
      "['Maleficent', '2014', '180000000', '241407328', '758536735']\n",
      "['Fantastic Beasts and Where to Find Them', '2016', '180000000', '234037575', '814037575']\n",
      "['WALL-E', '2008', '180000000', '223808164', '532508025']\n",
      "['Rush Hour 3', '2007', '180000000', '140125968', '256585882']\n",
      "['The Legend of Tarzan', '2016', '180000000', '126643061', '348902025']\n",
      "['Hugo', '2011', '180000000', '73864507', '180047784']\n",
      "['Valerian and the City of a Thousand Planets', '2017', '180000000', '40479370', '215098356']\n",
      "['Jupiter Ascending', '2015', '179000000', '47482519', '181982519']\n"
     ]
    }
   ],
   "source": [
    "failList = []\n",
    "page = '1'\n",
    "url = 'https://www.the-numbers.com/movie/budgets/all/1'\n",
    "html = get_HTML_text(page, url, failList, 1, '')\n",
    "soup = BeautifulSoup(html, \"html.parser\")\n",
    "table = soup.find('table')\n",
    "table_rows = table.find_all('tr')\n",
    "for index, tr in enumerate(table_rows):\n",
    "    if index == 0:\n",
    "        continue\n",
    "    else:\n",
    "        td = tr.find_all('td')\n",
    "        row = [i.text for i in td]\n",
    "        date = str(datetime.strptime(row[1], '%b %d, %Y').year)\n",
    "        name = row[2]\n",
    "        prod_budget = row[3].replace('\\xa0$', '').replace(',', '')\n",
    "        domestic_gross = row[4].replace('\\xa0$', '').replace(',', '')\n",
    "        worldwide_gross = row[5].replace('\\xa0$', '').replace(',', '')\n",
    "        budget = [name, date, prod_budget, domestic_gross, worldwide_gross]\n",
    "        print(budget)"
   ]
  },
  {
   "cell_type": "code",
   "execution_count": 1,
   "metadata": {},
   "outputs": [],
   "source": [
    "class Budget:\n",
    "    def __init__(self, name, date, prod_budget, domestic_gross, worldwide_gross):\n",
    "        self.name = name\n",
    "        self.date = date\n",
    "        self.prod_budget = prod_budget\n",
    "        self.domestic_gross = domestic_gross\n",
    "        self.worldwide_gross = worldwide_gross"
   ]
  },
  {
   "cell_type": "code",
   "execution_count": 18,
   "metadata": {},
   "outputs": [],
   "source": [
    "def scrape_plot(output_file, path):\n",
    "    failList = []  # collect page that failed\n",
    "    with open(output_file, 'a+') as output_f:\n",
    "        for page in range(6001, 6101, 100):\n",
    "            print('starting scraping page {}'.format(page))\n",
    "            url = 'https://www.the-numbers.com/movie/budgets/all/{}'.format(page)\n",
    "            html = get_HTML_text(page, url, failList, 1, path)\n",
    "            budgets = get_budget(html)\n",
    "            for budget in budgets:\n",
    "                output_f.write('{}\\t{}\\t{}\\t{}\\t{}\\n'.format(budget.name, budget.date, budget.prod_budget, budget.domestic_gross, budget.worldwide_gross))"
   ]
  },
  {
   "cell_type": "code",
   "execution_count": 19,
   "metadata": {},
   "outputs": [
    {
     "name": "stdout",
     "output_type": "stream",
     "text": [
      "starting scraping page 6001\n"
     ]
    }
   ],
   "source": [
    "scrape_plot('../../Sample_Data/Processed/budget.tsv', '')"
   ]
  }
 ],
 "metadata": {
  "kernelspec": {
   "display_name": "Python 3",
   "language": "python",
   "name": "python3"
  },
  "language_info": {
   "codemirror_mode": {
    "name": "ipython",
    "version": 3
   },
   "file_extension": ".py",
   "mimetype": "text/x-python",
   "name": "python",
   "nbconvert_exporter": "python",
   "pygments_lexer": "ipython3",
   "version": "3.7.4"
  }
 },
 "nbformat": 4,
 "nbformat_minor": 2
}
