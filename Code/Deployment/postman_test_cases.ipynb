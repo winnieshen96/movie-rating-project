{
 "cells": [
  {
   "cell_type": "code",
   "execution_count": 6,
   "metadata": {},
   "outputs": [],
   "source": [
    "import pickle\n",
    "import numpy as np"
   ]
  },
  {
   "cell_type": "code",
   "execution_count": 12,
   "metadata": {},
   "outputs": [],
   "source": [
    "x_column, model = pickle.load(open(\"../../Sample_Data/For_Modeling/clf_model\", \"rb\"))"
   ]
  },
  {
   "cell_type": "code",
   "execution_count": 13,
   "metadata": {},
   "outputs": [
    {
     "name": "stdout",
     "output_type": "stream",
     "text": [
      "Index(['director_mean_roi', 'writer_mean_roi', 'isAdult', 'Action',\n",
      "       'Adventure', 'Drama', 'Fantasy', 'Sci-Fi', 'Thriller', 'Animation',\n",
      "       'Comedy', 'Family', 'Crime', 'Horror', 'History', 'Romance', 'Mystery',\n",
      "       'Musical', 'Documentary', 'Adult', 'War', 'Biography', 'Western',\n",
      "       'Sport', 'Music', 'News', 'Film-Noir'],\n",
      "      dtype='object')\n"
     ]
    }
   ],
   "source": [
    "print(x_column)"
   ]
  },
  {
   "cell_type": "code",
   "execution_count": 7,
   "metadata": {},
   "outputs": [],
   "source": [
    "data = {\"director\": [[\"Alfred Hitchcock\", \"nm0000033\", 4.016666666666667], [\"Stanley Kubrick\", \"nm0000040\", 2.88679301148413]], \n",
    "\"genres\": [\"Adventure\", \"Drama\", \"Thriller\"], \"writer\": [[\"Akira Kurosawa\", \"nm0000041\", 1.18193164]]}"
   ]
  },
  {
   "cell_type": "code",
   "execution_count": 19,
   "metadata": {},
   "outputs": [
    {
     "name": "stdout",
     "output_type": "stream",
     "text": [
      "1\n",
      "{'prediction': 1, 'scores': {'recall': 0.9022988505747126, 'precision': 0.8602739726027397, 'f1_score': 0.8807854137447404}}\n"
     ]
    }
   ],
   "source": [
    "directors = data[\"director\"]\n",
    "writers = data[\"writer\"]\n",
    "genres = data['genres']\n",
    "\n",
    "# fill in x\n",
    "x = np.zeros(len(x_column))\n",
    "directors_roi = [director[2] for director in directors]\n",
    "writers_roi = [writer[2] for writer in writers]\n",
    "x[0] = np.mean(directors_roi)\n",
    "x[1] = np.mean(writers_roi)\n",
    "for index, column in enumerate(x_column):\n",
    "    if column in genres:\n",
    "        x[index] = 1\n",
    "\n",
    "# Make prediction using model \n",
    "prediction = model['clf'].predict(x.reshape(1, len(x_column)))[0]\n",
    "print(prediction)\n",
    "print({'prediction': prediction, 'scores': model['scores']})"
   ]
  }
 ],
 "metadata": {
  "kernelspec": {
   "display_name": "Python 3",
   "language": "python",
   "name": "python3"
  },
  "language_info": {
   "codemirror_mode": {
    "name": "ipython",
    "version": 3
   },
   "file_extension": ".py",
   "mimetype": "text/x-python",
   "name": "python",
   "nbconvert_exporter": "python",
   "pygments_lexer": "ipython3",
   "version": "3.7.4"
  }
 },
 "nbformat": 4,
 "nbformat_minor": 2
}
