{
 "cells": [
  {
   "cell_type": "code",
   "execution_count": 1,
   "metadata": {},
   "outputs": [],
   "source": [
    "import sqlite3\n",
    "import pandas as pd"
   ]
  },
  {
   "cell_type": "code",
   "execution_count": 2,
   "metadata": {},
   "outputs": [],
   "source": [
    "conn = sqlite3.connect('person.db')  # You can create a new database by changing the name within the quotes\n",
    "c = conn.cursor() # The database will be saved in the location where your 'py' file is saved"
   ]
  },
  {
   "cell_type": "code",
   "execution_count": 5,
   "metadata": {},
   "outputs": [],
   "source": [
    "# drop table -PERSON\n",
    "c.execute(\"DROP TABLE PERSON\")\n",
    "# Create table - PERSON\n",
    "c.execute('''CREATE TABLE PERSON\n",
    "             ([generated_id] INTEGER PRIMARY KEY, [person_id] text, [name] text, [roi] real)''')\n",
    "conn.commit()\n",
    "# - Before running the code, make sure that the column names in the CSV files match with the column names in the tables created and in the query below"
   ]
  },
  {
   "cell_type": "code",
   "execution_count": 6,
   "metadata": {},
   "outputs": [
    {
     "data": {
      "text/html": [
       "<div>\n",
       "<style scoped>\n",
       "    .dataframe tbody tr th:only-of-type {\n",
       "        vertical-align: middle;\n",
       "    }\n",
       "\n",
       "    .dataframe tbody tr th {\n",
       "        vertical-align: top;\n",
       "    }\n",
       "\n",
       "    .dataframe thead th {\n",
       "        text-align: right;\n",
       "    }\n",
       "</style>\n",
       "<table border=\"1\" class=\"dataframe\">\n",
       "  <thead>\n",
       "    <tr style=\"text-align: right;\">\n",
       "      <th></th>\n",
       "      <th>person_id</th>\n",
       "      <th>roi</th>\n",
       "      <th>name</th>\n",
       "      <th>birthYear</th>\n",
       "      <th>deathYear</th>\n",
       "      <th>primaryProfession</th>\n",
       "      <th>knownForTitles</th>\n",
       "    </tr>\n",
       "  </thead>\n",
       "  <tbody>\n",
       "    <tr>\n",
       "      <td>0</td>\n",
       "      <td>nm0000019</td>\n",
       "      <td>0.400000</td>\n",
       "      <td>Federico Fellini</td>\n",
       "      <td>1920</td>\n",
       "      <td>1993</td>\n",
       "      <td>writer,director,assistant_director</td>\n",
       "      <td>tt0071129,tt0056801,tt0053779,tt0047528</td>\n",
       "    </tr>\n",
       "    <tr>\n",
       "      <td>1</td>\n",
       "      <td>nm0000033</td>\n",
       "      <td>4.016667</td>\n",
       "      <td>Alfred Hitchcock</td>\n",
       "      <td>1899</td>\n",
       "      <td>1980</td>\n",
       "      <td>director,producer,actor</td>\n",
       "      <td>tt0054215,tt0053125,tt0040746,tt0052357</td>\n",
       "    </tr>\n",
       "    <tr>\n",
       "      <td>2</td>\n",
       "      <td>nm0000037</td>\n",
       "      <td>2.834646</td>\n",
       "      <td>Gene Kelly</td>\n",
       "      <td>1912</td>\n",
       "      <td>1996</td>\n",
       "      <td>actor,soundtrack,director</td>\n",
       "      <td>tt0043278,tt0045152,tt0041716,tt0053946</td>\n",
       "    </tr>\n",
       "    <tr>\n",
       "      <td>3</td>\n",
       "      <td>nm0000040</td>\n",
       "      <td>2.886793</td>\n",
       "      <td>Stanley Kubrick</td>\n",
       "      <td>1928</td>\n",
       "      <td>1999</td>\n",
       "      <td>director,writer,producer</td>\n",
       "      <td>tt0072684,tt0066921,tt0062622,tt0120663</td>\n",
       "    </tr>\n",
       "    <tr>\n",
       "      <td>4</td>\n",
       "      <td>nm0000041</td>\n",
       "      <td>1.181932</td>\n",
       "      <td>Akira Kurosawa</td>\n",
       "      <td>1910</td>\n",
       "      <td>1998</td>\n",
       "      <td>writer,director,assistant_director</td>\n",
       "      <td>tt0051808,tt0057565,tt0089881,tt0080979</td>\n",
       "    </tr>\n",
       "  </tbody>\n",
       "</table>\n",
       "</div>"
      ],
      "text/plain": [
       "   person_id       roi              name birthYear deathYear  \\\n",
       "0  nm0000019  0.400000  Federico Fellini      1920      1993   \n",
       "1  nm0000033  4.016667  Alfred Hitchcock      1899      1980   \n",
       "2  nm0000037  2.834646        Gene Kelly      1912      1996   \n",
       "3  nm0000040  2.886793   Stanley Kubrick      1928      1999   \n",
       "4  nm0000041  1.181932    Akira Kurosawa      1910      1998   \n",
       "\n",
       "                    primaryProfession                           knownForTitles  \n",
       "0  writer,director,assistant_director  tt0071129,tt0056801,tt0053779,tt0047528  \n",
       "1             director,producer,actor  tt0054215,tt0053125,tt0040746,tt0052357  \n",
       "2           actor,soundtrack,director  tt0043278,tt0045152,tt0041716,tt0053946  \n",
       "3            director,writer,producer  tt0072684,tt0066921,tt0062622,tt0120663  \n",
       "4  writer,director,assistant_director  tt0051808,tt0057565,tt0089881,tt0080979  "
      ]
     },
     "execution_count": 6,
     "metadata": {},
     "output_type": "execute_result"
    }
   ],
   "source": [
    "filename = '../../Sample_Data/Processed/joined.person.roi.tsv'\n",
    "person_data = pd.read_csv(filename, sep='\\t')\n",
    "person_data.head()"
   ]
  },
  {
   "cell_type": "code",
   "execution_count": 7,
   "metadata": {},
   "outputs": [],
   "source": [
    "person_data.iloc[:, :3].to_sql('PERSON', conn, if_exists='append', index = False) # Insert the values from the csv file into the table 'CLIENTS' "
   ]
  }
 ],
 "metadata": {
  "kernelspec": {
   "display_name": "Python 3",
   "language": "python",
   "name": "python3"
  },
  "language_info": {
   "codemirror_mode": {
    "name": "ipython",
    "version": 3
   },
   "file_extension": ".py",
   "mimetype": "text/x-python",
   "name": "python",
   "nbconvert_exporter": "python",
   "pygments_lexer": "ipython3",
   "version": "3.7.4"
  }
 },
 "nbformat": 4,
 "nbformat_minor": 2
}
